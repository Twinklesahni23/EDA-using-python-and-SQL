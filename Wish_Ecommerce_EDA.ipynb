{
 "cells": [
  {
   "cell_type": "markdown",
   "id": "dc9ff6ef",
   "metadata": {},
   "source": [
    "# E-commerce website 'Wish' Summer Clothes Sale EDA"
   ]
  },
  {
   "cell_type": "code",
   "execution_count": 1,
   "id": "7d34ecdb",
   "metadata": {
    "ExecuteTime": {
     "end_time": "2022-07-04T09:42:44.750244Z",
     "start_time": "2022-07-04T09:42:43.247179Z"
    }
   },
   "outputs": [],
   "source": [
    "import numpy as np\n",
    "import pandas as pd\n",
    "import matplotlib.pyplot as plt\n",
    "%matplotlib inline\n",
    "import seaborn as sns\n",
    "import pandasql as ps"
   ]
  },
  {
   "cell_type": "markdown",
   "id": "1708a8bd",
   "metadata": {},
   "source": [
    "## Reading the dataset"
   ]
  },
  {
   "cell_type": "code",
   "execution_count": 2,
   "id": "b0cd3d0d",
   "metadata": {
    "ExecuteTime": {
     "end_time": "2022-07-04T09:42:44.796277Z",
     "start_time": "2022-07-04T09:42:44.750244Z"
    }
   },
   "outputs": [],
   "source": [
    "data = pd.read_csv(r\"C:\\Users\\Twinkle Sahni\\Downloads\\jfreex-summer-products-and-sales-performance-in-e-commerce-on-wish\\jfreex-summer-products-and-sales-performance-in-e-commerce-on-wish\\summer-products-with-rating-and-performance_2020-08.csv\")"
   ]
  },
  {
   "cell_type": "code",
   "execution_count": 3,
   "id": "21c166fb",
   "metadata": {
    "ExecuteTime": {
     "end_time": "2022-07-04T09:42:44.843684Z",
     "start_time": "2022-07-04T09:42:44.799312Z"
    }
   },
   "outputs": [
    {
     "data": {
      "text/html": [
       "<div>\n",
       "<style scoped>\n",
       "    .dataframe tbody tr th:only-of-type {\n",
       "        vertical-align: middle;\n",
       "    }\n",
       "\n",
       "    .dataframe tbody tr th {\n",
       "        vertical-align: top;\n",
       "    }\n",
       "\n",
       "    .dataframe thead th {\n",
       "        text-align: right;\n",
       "    }\n",
       "</style>\n",
       "<table border=\"1\" class=\"dataframe\">\n",
       "  <thead>\n",
       "    <tr style=\"text-align: right;\">\n",
       "      <th></th>\n",
       "      <th>title</th>\n",
       "      <th>title_orig</th>\n",
       "      <th>price</th>\n",
       "      <th>retail_price</th>\n",
       "      <th>currency_buyer</th>\n",
       "      <th>units_sold</th>\n",
       "      <th>uses_ad_boosts</th>\n",
       "      <th>rating</th>\n",
       "      <th>rating_count</th>\n",
       "      <th>rating_five_count</th>\n",
       "      <th>...</th>\n",
       "      <th>merchant_rating_count</th>\n",
       "      <th>merchant_rating</th>\n",
       "      <th>merchant_id</th>\n",
       "      <th>merchant_has_profile_picture</th>\n",
       "      <th>merchant_profile_picture</th>\n",
       "      <th>product_url</th>\n",
       "      <th>product_picture</th>\n",
       "      <th>product_id</th>\n",
       "      <th>theme</th>\n",
       "      <th>crawl_month</th>\n",
       "    </tr>\n",
       "  </thead>\n",
       "  <tbody>\n",
       "    <tr>\n",
       "      <th>0</th>\n",
       "      <td>2020 Summer Vintage Flamingo Print  Pajamas Se...</td>\n",
       "      <td>2020 Summer Vintage Flamingo Print  Pajamas Se...</td>\n",
       "      <td>16.00</td>\n",
       "      <td>14</td>\n",
       "      <td>EUR</td>\n",
       "      <td>100</td>\n",
       "      <td>0</td>\n",
       "      <td>3.76</td>\n",
       "      <td>54</td>\n",
       "      <td>26.0</td>\n",
       "      <td>...</td>\n",
       "      <td>568</td>\n",
       "      <td>4.128521</td>\n",
       "      <td>595097d6a26f6e070cb878d1</td>\n",
       "      <td>0</td>\n",
       "      <td>NaN</td>\n",
       "      <td>https://www.wish.com/c/5e9ae51d43d6a96e303acdb0</td>\n",
       "      <td>https://contestimg.wish.com/api/webimage/5e9ae...</td>\n",
       "      <td>5e9ae51d43d6a96e303acdb0</td>\n",
       "      <td>summer</td>\n",
       "      <td>2020-08</td>\n",
       "    </tr>\n",
       "    <tr>\n",
       "      <th>1</th>\n",
       "      <td>SSHOUSE Summer Casual Sleeveless Soirée Party ...</td>\n",
       "      <td>Women's Casual Summer Sleeveless Sexy Mini Dress</td>\n",
       "      <td>8.00</td>\n",
       "      <td>22</td>\n",
       "      <td>EUR</td>\n",
       "      <td>20000</td>\n",
       "      <td>1</td>\n",
       "      <td>3.45</td>\n",
       "      <td>6135</td>\n",
       "      <td>2269.0</td>\n",
       "      <td>...</td>\n",
       "      <td>17752</td>\n",
       "      <td>3.899673</td>\n",
       "      <td>56458aa03a698c35c9050988</td>\n",
       "      <td>0</td>\n",
       "      <td>NaN</td>\n",
       "      <td>https://www.wish.com/c/58940d436a0d3d5da4e95a38</td>\n",
       "      <td>https://contestimg.wish.com/api/webimage/58940...</td>\n",
       "      <td>58940d436a0d3d5da4e95a38</td>\n",
       "      <td>summer</td>\n",
       "      <td>2020-08</td>\n",
       "    </tr>\n",
       "    <tr>\n",
       "      <th>2</th>\n",
       "      <td>2020 Nouvelle Arrivée Femmes Printemps et Été ...</td>\n",
       "      <td>2020 New Arrival Women Spring and Summer Beach...</td>\n",
       "      <td>8.00</td>\n",
       "      <td>43</td>\n",
       "      <td>EUR</td>\n",
       "      <td>100</td>\n",
       "      <td>0</td>\n",
       "      <td>3.57</td>\n",
       "      <td>14</td>\n",
       "      <td>5.0</td>\n",
       "      <td>...</td>\n",
       "      <td>295</td>\n",
       "      <td>3.989831</td>\n",
       "      <td>5d464a1ffdf7bc44ee933c65</td>\n",
       "      <td>0</td>\n",
       "      <td>NaN</td>\n",
       "      <td>https://www.wish.com/c/5ea10e2c617580260d55310a</td>\n",
       "      <td>https://contestimg.wish.com/api/webimage/5ea10...</td>\n",
       "      <td>5ea10e2c617580260d55310a</td>\n",
       "      <td>summer</td>\n",
       "      <td>2020-08</td>\n",
       "    </tr>\n",
       "    <tr>\n",
       "      <th>3</th>\n",
       "      <td>Hot Summer Cool T-shirt pour les femmes Mode T...</td>\n",
       "      <td>Hot Summer Cool T Shirt for Women Fashion Tops...</td>\n",
       "      <td>8.00</td>\n",
       "      <td>8</td>\n",
       "      <td>EUR</td>\n",
       "      <td>5000</td>\n",
       "      <td>1</td>\n",
       "      <td>4.03</td>\n",
       "      <td>579</td>\n",
       "      <td>295.0</td>\n",
       "      <td>...</td>\n",
       "      <td>23832</td>\n",
       "      <td>4.020435</td>\n",
       "      <td>58cfdefdacb37b556efdff7c</td>\n",
       "      <td>0</td>\n",
       "      <td>NaN</td>\n",
       "      <td>https://www.wish.com/c/5cedf17ad1d44c52c59e4aca</td>\n",
       "      <td>https://contestimg.wish.com/api/webimage/5cedf...</td>\n",
       "      <td>5cedf17ad1d44c52c59e4aca</td>\n",
       "      <td>summer</td>\n",
       "      <td>2020-08</td>\n",
       "    </tr>\n",
       "    <tr>\n",
       "      <th>4</th>\n",
       "      <td>Femmes Shorts d'été à lacets taille élastique ...</td>\n",
       "      <td>Women Summer Shorts Lace Up Elastic Waistband ...</td>\n",
       "      <td>2.72</td>\n",
       "      <td>3</td>\n",
       "      <td>EUR</td>\n",
       "      <td>100</td>\n",
       "      <td>1</td>\n",
       "      <td>3.10</td>\n",
       "      <td>20</td>\n",
       "      <td>6.0</td>\n",
       "      <td>...</td>\n",
       "      <td>14482</td>\n",
       "      <td>4.001588</td>\n",
       "      <td>5ab3b592c3911a095ad5dadb</td>\n",
       "      <td>0</td>\n",
       "      <td>NaN</td>\n",
       "      <td>https://www.wish.com/c/5ebf5819ebac372b070b0e70</td>\n",
       "      <td>https://contestimg.wish.com/api/webimage/5ebf5...</td>\n",
       "      <td>5ebf5819ebac372b070b0e70</td>\n",
       "      <td>summer</td>\n",
       "      <td>2020-08</td>\n",
       "    </tr>\n",
       "  </tbody>\n",
       "</table>\n",
       "<p>5 rows × 43 columns</p>\n",
       "</div>"
      ],
      "text/plain": [
       "                                               title  \\\n",
       "0  2020 Summer Vintage Flamingo Print  Pajamas Se...   \n",
       "1  SSHOUSE Summer Casual Sleeveless Soirée Party ...   \n",
       "2  2020 Nouvelle Arrivée Femmes Printemps et Été ...   \n",
       "3  Hot Summer Cool T-shirt pour les femmes Mode T...   \n",
       "4  Femmes Shorts d'été à lacets taille élastique ...   \n",
       "\n",
       "                                          title_orig  price  retail_price  \\\n",
       "0  2020 Summer Vintage Flamingo Print  Pajamas Se...  16.00            14   \n",
       "1   Women's Casual Summer Sleeveless Sexy Mini Dress   8.00            22   \n",
       "2  2020 New Arrival Women Spring and Summer Beach...   8.00            43   \n",
       "3  Hot Summer Cool T Shirt for Women Fashion Tops...   8.00             8   \n",
       "4  Women Summer Shorts Lace Up Elastic Waistband ...   2.72             3   \n",
       "\n",
       "  currency_buyer  units_sold  uses_ad_boosts  rating  rating_count  \\\n",
       "0            EUR         100               0    3.76            54   \n",
       "1            EUR       20000               1    3.45          6135   \n",
       "2            EUR         100               0    3.57            14   \n",
       "3            EUR        5000               1    4.03           579   \n",
       "4            EUR         100               1    3.10            20   \n",
       "\n",
       "   rating_five_count  ...  merchant_rating_count  merchant_rating  \\\n",
       "0               26.0  ...                    568         4.128521   \n",
       "1             2269.0  ...                  17752         3.899673   \n",
       "2                5.0  ...                    295         3.989831   \n",
       "3              295.0  ...                  23832         4.020435   \n",
       "4                6.0  ...                  14482         4.001588   \n",
       "\n",
       "                merchant_id  merchant_has_profile_picture  \\\n",
       "0  595097d6a26f6e070cb878d1                             0   \n",
       "1  56458aa03a698c35c9050988                             0   \n",
       "2  5d464a1ffdf7bc44ee933c65                             0   \n",
       "3  58cfdefdacb37b556efdff7c                             0   \n",
       "4  5ab3b592c3911a095ad5dadb                             0   \n",
       "\n",
       "   merchant_profile_picture                                      product_url  \\\n",
       "0                       NaN  https://www.wish.com/c/5e9ae51d43d6a96e303acdb0   \n",
       "1                       NaN  https://www.wish.com/c/58940d436a0d3d5da4e95a38   \n",
       "2                       NaN  https://www.wish.com/c/5ea10e2c617580260d55310a   \n",
       "3                       NaN  https://www.wish.com/c/5cedf17ad1d44c52c59e4aca   \n",
       "4                       NaN  https://www.wish.com/c/5ebf5819ebac372b070b0e70   \n",
       "\n",
       "                                     product_picture  \\\n",
       "0  https://contestimg.wish.com/api/webimage/5e9ae...   \n",
       "1  https://contestimg.wish.com/api/webimage/58940...   \n",
       "2  https://contestimg.wish.com/api/webimage/5ea10...   \n",
       "3  https://contestimg.wish.com/api/webimage/5cedf...   \n",
       "4  https://contestimg.wish.com/api/webimage/5ebf5...   \n",
       "\n",
       "                 product_id   theme crawl_month  \n",
       "0  5e9ae51d43d6a96e303acdb0  summer     2020-08  \n",
       "1  58940d436a0d3d5da4e95a38  summer     2020-08  \n",
       "2  5ea10e2c617580260d55310a  summer     2020-08  \n",
       "3  5cedf17ad1d44c52c59e4aca  summer     2020-08  \n",
       "4  5ebf5819ebac372b070b0e70  summer     2020-08  \n",
       "\n",
       "[5 rows x 43 columns]"
      ]
     },
     "execution_count": 3,
     "metadata": {},
     "output_type": "execute_result"
    }
   ],
   "source": [
    "data.head()"
   ]
  },
  {
   "cell_type": "code",
   "execution_count": 4,
   "id": "d07ba184",
   "metadata": {
    "ExecuteTime": {
     "end_time": "2022-07-04T09:42:44.899537Z",
     "start_time": "2022-07-04T09:42:44.845681Z"
    }
   },
   "outputs": [
    {
     "name": "stdout",
     "output_type": "stream",
     "text": [
      "Data shape : (1573, 43)\n"
     ]
    }
   ],
   "source": [
    "print(\"Data shape :\",data.shape)"
   ]
  },
  {
   "cell_type": "code",
   "execution_count": 5,
   "id": "dbec200f",
   "metadata": {
    "ExecuteTime": {
     "end_time": "2022-07-04T09:42:44.952395Z",
     "start_time": "2022-07-04T09:42:44.902529Z"
    }
   },
   "outputs": [
    {
     "name": "stdout",
     "output_type": "stream",
     "text": [
      "<class 'pandas.core.frame.DataFrame'>\n",
      "RangeIndex: 1573 entries, 0 to 1572\n",
      "Data columns (total 43 columns):\n",
      " #   Column                        Non-Null Count  Dtype  \n",
      "---  ------                        --------------  -----  \n",
      " 0   title                         1573 non-null   object \n",
      " 1   title_orig                    1573 non-null   object \n",
      " 2   price                         1573 non-null   float64\n",
      " 3   retail_price                  1573 non-null   int64  \n",
      " 4   currency_buyer                1573 non-null   object \n",
      " 5   units_sold                    1573 non-null   int64  \n",
      " 6   uses_ad_boosts                1573 non-null   int64  \n",
      " 7   rating                        1573 non-null   float64\n",
      " 8   rating_count                  1573 non-null   int64  \n",
      " 9   rating_five_count             1528 non-null   float64\n",
      " 10  rating_four_count             1528 non-null   float64\n",
      " 11  rating_three_count            1528 non-null   float64\n",
      " 12  rating_two_count              1528 non-null   float64\n",
      " 13  rating_one_count              1528 non-null   float64\n",
      " 14  badges_count                  1573 non-null   int64  \n",
      " 15  badge_local_product           1573 non-null   int64  \n",
      " 16  badge_product_quality         1573 non-null   int64  \n",
      " 17  badge_fast_shipping           1573 non-null   int64  \n",
      " 18  tags                          1573 non-null   object \n",
      " 19  product_color                 1532 non-null   object \n",
      " 20  product_variation_size_id     1559 non-null   object \n",
      " 21  product_variation_inventory   1573 non-null   int64  \n",
      " 22  shipping_option_name          1573 non-null   object \n",
      " 23  shipping_option_price         1573 non-null   int64  \n",
      " 24  shipping_is_express           1573 non-null   int64  \n",
      " 25  countries_shipped_to          1573 non-null   int64  \n",
      " 26  inventory_total               1573 non-null   int64  \n",
      " 27  has_urgency_banner            473 non-null    float64\n",
      " 28  urgency_text                  473 non-null    object \n",
      " 29  origin_country                1556 non-null   object \n",
      " 30  merchant_title                1573 non-null   object \n",
      " 31  merchant_name                 1569 non-null   object \n",
      " 32  merchant_info_subtitle        1572 non-null   object \n",
      " 33  merchant_rating_count         1573 non-null   int64  \n",
      " 34  merchant_rating               1573 non-null   float64\n",
      " 35  merchant_id                   1573 non-null   object \n",
      " 36  merchant_has_profile_picture  1573 non-null   int64  \n",
      " 37  merchant_profile_picture      226 non-null    object \n",
      " 38  product_url                   1573 non-null   object \n",
      " 39  product_picture               1573 non-null   object \n",
      " 40  product_id                    1573 non-null   object \n",
      " 41  theme                         1573 non-null   object \n",
      " 42  crawl_month                   1573 non-null   object \n",
      "dtypes: float64(9), int64(15), object(19)\n",
      "memory usage: 528.6+ KB\n"
     ]
    }
   ],
   "source": [
    "data.info()"
   ]
  },
  {
   "cell_type": "markdown",
   "id": "5cc22740",
   "metadata": {},
   "source": [
    "## Data Preprocessing"
   ]
  },
  {
   "cell_type": "markdown",
   "id": "495ec286",
   "metadata": {},
   "source": [
    "### Dropping the irrelevant features"
   ]
  },
  {
   "cell_type": "code",
   "execution_count": 6,
   "id": "e7681151",
   "metadata": {
    "ExecuteTime": {
     "end_time": "2022-07-04T09:42:44.973339Z",
     "start_time": "2022-07-04T09:42:44.954389Z"
    }
   },
   "outputs": [],
   "source": [
    "df = data.copy()"
   ]
  },
  {
   "cell_type": "code",
   "execution_count": 7,
   "id": "0affff10",
   "metadata": {
    "ExecuteTime": {
     "end_time": "2022-07-04T09:42:44.983311Z",
     "start_time": "2022-07-04T09:42:44.975334Z"
    }
   },
   "outputs": [],
   "source": [
    "df.drop(['currency_buyer', 'badges_count', 'badge_local_product', 'badge_product_quality', 'badge_fast_shipping',\n",
    "         'product_variation_inventory','has_urgency_banner', 'urgency_text',\n",
    "         'merchant_title','merchant_info_subtitle','merchant_has_profile_picture', \n",
    "         'merchant_profile_picture', 'product_url', 'product_picture', 'theme', 'crawl_month'], axis = 1, inplace = True)"
   ]
  },
  {
   "cell_type": "markdown",
   "id": "4d88df70",
   "metadata": {},
   "source": [
    "### Cleaning the data"
   ]
  },
  {
   "cell_type": "code",
   "execution_count": 8,
   "id": "51382309",
   "metadata": {
    "ExecuteTime": {
     "end_time": "2022-07-04T09:42:44.999269Z",
     "start_time": "2022-07-04T09:42:44.987302Z"
    }
   },
   "outputs": [
    {
     "data": {
      "text/plain": [
       "title                         0\n",
       "title_orig                    0\n",
       "price                         0\n",
       "retail_price                  0\n",
       "units_sold                    0\n",
       "uses_ad_boosts                0\n",
       "rating                        0\n",
       "rating_count                  0\n",
       "rating_five_count            45\n",
       "rating_four_count            45\n",
       "rating_three_count           45\n",
       "rating_two_count             45\n",
       "rating_one_count             45\n",
       "tags                          0\n",
       "product_color                41\n",
       "product_variation_size_id    14\n",
       "shipping_option_name          0\n",
       "shipping_option_price         0\n",
       "shipping_is_express           0\n",
       "countries_shipped_to          0\n",
       "inventory_total               0\n",
       "origin_country               17\n",
       "merchant_name                 4\n",
       "merchant_rating_count         0\n",
       "merchant_rating               0\n",
       "merchant_id                   0\n",
       "product_id                    0\n",
       "dtype: int64"
      ]
     },
     "execution_count": 8,
     "metadata": {},
     "output_type": "execute_result"
    }
   ],
   "source": [
    "df.isnull().sum()"
   ]
  },
  {
   "cell_type": "markdown",
   "id": "26fea5c9",
   "metadata": {},
   "source": [
    "The rating count has zero null values while individual numerical rating count has 45 nulls, implying that for 45 products we do not have segmented ratings which will not be an issue in our analysis. Similarly, 41 items has no information about the color. We can drop these values from our dataset.\n",
    "Moreover, for 17 merchandise, the country for origin is not known and I think in this case, the null values can be filled using Central Tendency Measures, i.e., Mode. Missing merchant names can just be dopped off the dataset."
   ]
  },
  {
   "cell_type": "code",
   "execution_count": 9,
   "id": "81f17835",
   "metadata": {
    "ExecuteTime": {
     "end_time": "2022-07-04T09:42:45.015226Z",
     "start_time": "2022-07-04T09:42:45.004258Z"
    }
   },
   "outputs": [
    {
     "data": {
      "text/plain": [
       "array(['CN'], dtype=object)"
      ]
     },
     "execution_count": 9,
     "metadata": {},
     "output_type": "execute_result"
    }
   ],
   "source": [
    "df['origin_country'].mode().values"
   ]
  },
  {
   "cell_type": "code",
   "execution_count": 10,
   "id": "946d6601",
   "metadata": {
    "ExecuteTime": {
     "end_time": "2022-07-04T09:42:45.030187Z",
     "start_time": "2022-07-04T09:42:45.016224Z"
    }
   },
   "outputs": [
    {
     "data": {
      "text/plain": [
       "0       CN\n",
       "1       CN\n",
       "2       CN\n",
       "3       CN\n",
       "4       CN\n",
       "        ..\n",
       "1568    CN\n",
       "1569    CN\n",
       "1570    CN\n",
       "1571    CN\n",
       "1572    CN\n",
       "Name: origin_country, Length: 1573, dtype: object"
      ]
     },
     "execution_count": 10,
     "metadata": {},
     "output_type": "execute_result"
    }
   ],
   "source": [
    "df['origin_country'].replace('NaN', 'CN')"
   ]
  },
  {
   "cell_type": "code",
   "execution_count": 11,
   "id": "a2e1caaa",
   "metadata": {
    "ExecuteTime": {
     "end_time": "2022-07-04T09:42:45.046144Z",
     "start_time": "2022-07-04T09:42:45.032183Z"
    }
   },
   "outputs": [],
   "source": [
    "df = df.dropna()"
   ]
  },
  {
   "cell_type": "code",
   "execution_count": 12,
   "id": "7164a7b7",
   "metadata": {
    "ExecuteTime": {
     "end_time": "2022-07-04T09:42:45.077060Z",
     "start_time": "2022-07-04T09:42:45.048139Z"
    }
   },
   "outputs": [
    {
     "data": {
      "text/html": [
       "<div>\n",
       "<style scoped>\n",
       "    .dataframe tbody tr th:only-of-type {\n",
       "        vertical-align: middle;\n",
       "    }\n",
       "\n",
       "    .dataframe tbody tr th {\n",
       "        vertical-align: top;\n",
       "    }\n",
       "\n",
       "    .dataframe thead th {\n",
       "        text-align: right;\n",
       "    }\n",
       "</style>\n",
       "<table border=\"1\" class=\"dataframe\">\n",
       "  <thead>\n",
       "    <tr style=\"text-align: right;\">\n",
       "      <th></th>\n",
       "      <th>title</th>\n",
       "      <th>title_orig</th>\n",
       "      <th>price</th>\n",
       "      <th>retail_price</th>\n",
       "      <th>units_sold</th>\n",
       "      <th>uses_ad_boosts</th>\n",
       "      <th>rating</th>\n",
       "      <th>rating_count</th>\n",
       "      <th>rating_five_count</th>\n",
       "      <th>rating_four_count</th>\n",
       "      <th>...</th>\n",
       "      <th>shipping_option_price</th>\n",
       "      <th>shipping_is_express</th>\n",
       "      <th>countries_shipped_to</th>\n",
       "      <th>inventory_total</th>\n",
       "      <th>origin_country</th>\n",
       "      <th>merchant_name</th>\n",
       "      <th>merchant_rating_count</th>\n",
       "      <th>merchant_rating</th>\n",
       "      <th>merchant_id</th>\n",
       "      <th>product_id</th>\n",
       "    </tr>\n",
       "  </thead>\n",
       "  <tbody>\n",
       "    <tr>\n",
       "      <th>nulls</th>\n",
       "      <td>0</td>\n",
       "      <td>0</td>\n",
       "      <td>0</td>\n",
       "      <td>0</td>\n",
       "      <td>0</td>\n",
       "      <td>0</td>\n",
       "      <td>0</td>\n",
       "      <td>0</td>\n",
       "      <td>0</td>\n",
       "      <td>0</td>\n",
       "      <td>...</td>\n",
       "      <td>0</td>\n",
       "      <td>0</td>\n",
       "      <td>0</td>\n",
       "      <td>0</td>\n",
       "      <td>0</td>\n",
       "      <td>0</td>\n",
       "      <td>0</td>\n",
       "      <td>0</td>\n",
       "      <td>0</td>\n",
       "      <td>0</td>\n",
       "    </tr>\n",
       "  </tbody>\n",
       "</table>\n",
       "<p>1 rows × 27 columns</p>\n",
       "</div>"
      ],
      "text/plain": [
       "       title  title_orig  price  retail_price  units_sold  uses_ad_boosts  \\\n",
       "nulls      0           0      0             0           0               0   \n",
       "\n",
       "       rating  rating_count  rating_five_count  rating_four_count  ...  \\\n",
       "nulls       0             0                  0                  0  ...   \n",
       "\n",
       "       shipping_option_price  shipping_is_express  countries_shipped_to  \\\n",
       "nulls                      0                    0                     0   \n",
       "\n",
       "       inventory_total  origin_country  merchant_name  merchant_rating_count  \\\n",
       "nulls                0               0              0                      0   \n",
       "\n",
       "       merchant_rating  merchant_id  product_id  \n",
       "nulls                0            0           0  \n",
       "\n",
       "[1 rows x 27 columns]"
      ]
     },
     "execution_count": 12,
     "metadata": {},
     "output_type": "execute_result"
    }
   ],
   "source": [
    "null1 = df.isnull().sum().to_frame(name='nulls').T\n",
    "null1"
   ]
  },
  {
   "cell_type": "markdown",
   "id": "23579662",
   "metadata": {},
   "source": [
    "## Analyzing the data"
   ]
  },
  {
   "cell_type": "code",
   "execution_count": 13,
   "id": "6d19e9e6",
   "metadata": {
    "ExecuteTime": {
     "end_time": "2022-07-04T09:42:45.121942Z",
     "start_time": "2022-07-04T09:42:45.078058Z"
    }
   },
   "outputs": [
    {
     "data": {
      "text/html": [
       "<div>\n",
       "<style scoped>\n",
       "    .dataframe tbody tr th:only-of-type {\n",
       "        vertical-align: middle;\n",
       "    }\n",
       "\n",
       "    .dataframe tbody tr th {\n",
       "        vertical-align: top;\n",
       "    }\n",
       "\n",
       "    .dataframe thead th {\n",
       "        text-align: right;\n",
       "    }\n",
       "</style>\n",
       "<table border=\"1\" class=\"dataframe\">\n",
       "  <thead>\n",
       "    <tr style=\"text-align: right;\">\n",
       "      <th></th>\n",
       "      <th>title</th>\n",
       "      <th>title_orig</th>\n",
       "      <th>price</th>\n",
       "      <th>retail_price</th>\n",
       "      <th>units_sold</th>\n",
       "      <th>uses_ad_boosts</th>\n",
       "      <th>rating</th>\n",
       "      <th>rating_count</th>\n",
       "      <th>rating_five_count</th>\n",
       "      <th>rating_four_count</th>\n",
       "      <th>...</th>\n",
       "      <th>shipping_option_price</th>\n",
       "      <th>shipping_is_express</th>\n",
       "      <th>countries_shipped_to</th>\n",
       "      <th>inventory_total</th>\n",
       "      <th>origin_country</th>\n",
       "      <th>merchant_name</th>\n",
       "      <th>merchant_rating_count</th>\n",
       "      <th>merchant_rating</th>\n",
       "      <th>merchant_id</th>\n",
       "      <th>product_id</th>\n",
       "    </tr>\n",
       "  </thead>\n",
       "  <tbody>\n",
       "    <tr>\n",
       "      <th>0</th>\n",
       "      <td>2020 Summer Vintage Flamingo Print  Pajamas Se...</td>\n",
       "      <td>2020 Summer Vintage Flamingo Print  Pajamas Se...</td>\n",
       "      <td>16.00</td>\n",
       "      <td>14</td>\n",
       "      <td>100</td>\n",
       "      <td>0</td>\n",
       "      <td>3.76</td>\n",
       "      <td>54</td>\n",
       "      <td>26.0</td>\n",
       "      <td>8.0</td>\n",
       "      <td>...</td>\n",
       "      <td>4</td>\n",
       "      <td>0</td>\n",
       "      <td>34</td>\n",
       "      <td>50</td>\n",
       "      <td>CN</td>\n",
       "      <td>zgrdejia</td>\n",
       "      <td>568</td>\n",
       "      <td>4.128521</td>\n",
       "      <td>595097d6a26f6e070cb878d1</td>\n",
       "      <td>5e9ae51d43d6a96e303acdb0</td>\n",
       "    </tr>\n",
       "    <tr>\n",
       "      <th>1</th>\n",
       "      <td>SSHOUSE Summer Casual Sleeveless Soirée Party ...</td>\n",
       "      <td>Women's Casual Summer Sleeveless Sexy Mini Dress</td>\n",
       "      <td>8.00</td>\n",
       "      <td>22</td>\n",
       "      <td>20000</td>\n",
       "      <td>1</td>\n",
       "      <td>3.45</td>\n",
       "      <td>6135</td>\n",
       "      <td>2269.0</td>\n",
       "      <td>1027.0</td>\n",
       "      <td>...</td>\n",
       "      <td>2</td>\n",
       "      <td>0</td>\n",
       "      <td>41</td>\n",
       "      <td>50</td>\n",
       "      <td>CN</td>\n",
       "      <td>sarahouse</td>\n",
       "      <td>17752</td>\n",
       "      <td>3.899673</td>\n",
       "      <td>56458aa03a698c35c9050988</td>\n",
       "      <td>58940d436a0d3d5da4e95a38</td>\n",
       "    </tr>\n",
       "    <tr>\n",
       "      <th>2</th>\n",
       "      <td>2020 Nouvelle Arrivée Femmes Printemps et Été ...</td>\n",
       "      <td>2020 New Arrival Women Spring and Summer Beach...</td>\n",
       "      <td>8.00</td>\n",
       "      <td>43</td>\n",
       "      <td>100</td>\n",
       "      <td>0</td>\n",
       "      <td>3.57</td>\n",
       "      <td>14</td>\n",
       "      <td>5.0</td>\n",
       "      <td>4.0</td>\n",
       "      <td>...</td>\n",
       "      <td>3</td>\n",
       "      <td>0</td>\n",
       "      <td>36</td>\n",
       "      <td>50</td>\n",
       "      <td>CN</td>\n",
       "      <td>hxt520</td>\n",
       "      <td>295</td>\n",
       "      <td>3.989831</td>\n",
       "      <td>5d464a1ffdf7bc44ee933c65</td>\n",
       "      <td>5ea10e2c617580260d55310a</td>\n",
       "    </tr>\n",
       "    <tr>\n",
       "      <th>3</th>\n",
       "      <td>Hot Summer Cool T-shirt pour les femmes Mode T...</td>\n",
       "      <td>Hot Summer Cool T Shirt for Women Fashion Tops...</td>\n",
       "      <td>8.00</td>\n",
       "      <td>8</td>\n",
       "      <td>5000</td>\n",
       "      <td>1</td>\n",
       "      <td>4.03</td>\n",
       "      <td>579</td>\n",
       "      <td>295.0</td>\n",
       "      <td>119.0</td>\n",
       "      <td>...</td>\n",
       "      <td>2</td>\n",
       "      <td>0</td>\n",
       "      <td>41</td>\n",
       "      <td>50</td>\n",
       "      <td>CN</td>\n",
       "      <td>allenfan</td>\n",
       "      <td>23832</td>\n",
       "      <td>4.020435</td>\n",
       "      <td>58cfdefdacb37b556efdff7c</td>\n",
       "      <td>5cedf17ad1d44c52c59e4aca</td>\n",
       "    </tr>\n",
       "    <tr>\n",
       "      <th>4</th>\n",
       "      <td>Femmes Shorts d'été à lacets taille élastique ...</td>\n",
       "      <td>Women Summer Shorts Lace Up Elastic Waistband ...</td>\n",
       "      <td>2.72</td>\n",
       "      <td>3</td>\n",
       "      <td>100</td>\n",
       "      <td>1</td>\n",
       "      <td>3.10</td>\n",
       "      <td>20</td>\n",
       "      <td>6.0</td>\n",
       "      <td>4.0</td>\n",
       "      <td>...</td>\n",
       "      <td>1</td>\n",
       "      <td>0</td>\n",
       "      <td>35</td>\n",
       "      <td>50</td>\n",
       "      <td>CN</td>\n",
       "      <td>happyhorses</td>\n",
       "      <td>14482</td>\n",
       "      <td>4.001588</td>\n",
       "      <td>5ab3b592c3911a095ad5dadb</td>\n",
       "      <td>5ebf5819ebac372b070b0e70</td>\n",
       "    </tr>\n",
       "    <tr>\n",
       "      <th>5</th>\n",
       "      <td>Plus la taille d'été femmes décontracté sans m...</td>\n",
       "      <td>Plus Size Summer Women Casual Sleeveless Rompe...</td>\n",
       "      <td>3.92</td>\n",
       "      <td>9</td>\n",
       "      <td>10</td>\n",
       "      <td>0</td>\n",
       "      <td>5.00</td>\n",
       "      <td>1</td>\n",
       "      <td>1.0</td>\n",
       "      <td>0.0</td>\n",
       "      <td>...</td>\n",
       "      <td>1</td>\n",
       "      <td>0</td>\n",
       "      <td>40</td>\n",
       "      <td>50</td>\n",
       "      <td>CN</td>\n",
       "      <td>zhoulinglinga</td>\n",
       "      <td>65</td>\n",
       "      <td>3.507692</td>\n",
       "      <td>5e4b9c3801ba9d210036fc5a</td>\n",
       "      <td>5ec645bafd107a02279c8c54</td>\n",
       "    </tr>\n",
       "    <tr>\n",
       "      <th>6</th>\n",
       "      <td>Women Fashion Loose Lace Blouse Blouse V Neck ...</td>\n",
       "      <td>Women Fashion Loose Lace Blouse V Neck Bat Sle...</td>\n",
       "      <td>7.00</td>\n",
       "      <td>6</td>\n",
       "      <td>50000</td>\n",
       "      <td>0</td>\n",
       "      <td>3.84</td>\n",
       "      <td>6742</td>\n",
       "      <td>3172.0</td>\n",
       "      <td>1352.0</td>\n",
       "      <td>...</td>\n",
       "      <td>2</td>\n",
       "      <td>0</td>\n",
       "      <td>31</td>\n",
       "      <td>50</td>\n",
       "      <td>CN</td>\n",
       "      <td>uniquelifashionshopbb657bfe91d211e598c7063a14d...</td>\n",
       "      <td>10194</td>\n",
       "      <td>4.076516</td>\n",
       "      <td>5652f4053a698c76dc9a3f37</td>\n",
       "      <td>5c63a337d5e2ce4bbb3152cf</td>\n",
       "    </tr>\n",
       "    <tr>\n",
       "      <th>7</th>\n",
       "      <td>Robe tunique ample femme Robe d'été Robe en je...</td>\n",
       "      <td>Women's Baggy Tunic Dress Summer Dress Denim D...</td>\n",
       "      <td>12.00</td>\n",
       "      <td>11</td>\n",
       "      <td>1000</td>\n",
       "      <td>0</td>\n",
       "      <td>3.76</td>\n",
       "      <td>286</td>\n",
       "      <td>120.0</td>\n",
       "      <td>56.0</td>\n",
       "      <td>...</td>\n",
       "      <td>3</td>\n",
       "      <td>0</td>\n",
       "      <td>139</td>\n",
       "      <td>50</td>\n",
       "      <td>CN</td>\n",
       "      <td>soband</td>\n",
       "      <td>342</td>\n",
       "      <td>3.681287</td>\n",
       "      <td>5d45349676befe65691dcfbb</td>\n",
       "      <td>5e0ae5ebc2efb76ccf0a3391</td>\n",
       "    </tr>\n",
       "    <tr>\n",
       "      <th>8</th>\n",
       "      <td>Robe d'été décontractée à manches courtes pour...</td>\n",
       "      <td>Women's Summer Casual Dress Fashion Short Slee...</td>\n",
       "      <td>11.00</td>\n",
       "      <td>84</td>\n",
       "      <td>100</td>\n",
       "      <td>1</td>\n",
       "      <td>3.47</td>\n",
       "      <td>15</td>\n",
       "      <td>6.0</td>\n",
       "      <td>2.0</td>\n",
       "      <td>...</td>\n",
       "      <td>2</td>\n",
       "      <td>0</td>\n",
       "      <td>36</td>\n",
       "      <td>50</td>\n",
       "      <td>CN</td>\n",
       "      <td>chenxiangjunjun</td>\n",
       "      <td>330</td>\n",
       "      <td>3.803030</td>\n",
       "      <td>5d42980e8388970d32294ddc</td>\n",
       "      <td>5e6f1fb7fe4a5bb4b8bf36e5</td>\n",
       "    </tr>\n",
       "    <tr>\n",
       "      <th>9</th>\n",
       "      <td>Femmes d'été, plus la taille décontractée lâch...</td>\n",
       "      <td>Summer Women Plus Size Casual Loose V Neck Sho...</td>\n",
       "      <td>5.78</td>\n",
       "      <td>22</td>\n",
       "      <td>5000</td>\n",
       "      <td>0</td>\n",
       "      <td>3.60</td>\n",
       "      <td>687</td>\n",
       "      <td>287.0</td>\n",
       "      <td>128.0</td>\n",
       "      <td>...</td>\n",
       "      <td>2</td>\n",
       "      <td>0</td>\n",
       "      <td>33</td>\n",
       "      <td>50</td>\n",
       "      <td>CN</td>\n",
       "      <td>luoweiclothe</td>\n",
       "      <td>5534</td>\n",
       "      <td>3.999819</td>\n",
       "      <td>5ba2251b4315d12ebce873fa</td>\n",
       "      <td>5ccfaf238a8d535cec2dfb47</td>\n",
       "    </tr>\n",
       "  </tbody>\n",
       "</table>\n",
       "<p>10 rows × 27 columns</p>\n",
       "</div>"
      ],
      "text/plain": [
       "                                               title  \\\n",
       "0  2020 Summer Vintage Flamingo Print  Pajamas Se...   \n",
       "1  SSHOUSE Summer Casual Sleeveless Soirée Party ...   \n",
       "2  2020 Nouvelle Arrivée Femmes Printemps et Été ...   \n",
       "3  Hot Summer Cool T-shirt pour les femmes Mode T...   \n",
       "4  Femmes Shorts d'été à lacets taille élastique ...   \n",
       "5  Plus la taille d'été femmes décontracté sans m...   \n",
       "6  Women Fashion Loose Lace Blouse Blouse V Neck ...   \n",
       "7  Robe tunique ample femme Robe d'été Robe en je...   \n",
       "8  Robe d'été décontractée à manches courtes pour...   \n",
       "9  Femmes d'été, plus la taille décontractée lâch...   \n",
       "\n",
       "                                          title_orig  price  retail_price  \\\n",
       "0  2020 Summer Vintage Flamingo Print  Pajamas Se...  16.00            14   \n",
       "1   Women's Casual Summer Sleeveless Sexy Mini Dress   8.00            22   \n",
       "2  2020 New Arrival Women Spring and Summer Beach...   8.00            43   \n",
       "3  Hot Summer Cool T Shirt for Women Fashion Tops...   8.00             8   \n",
       "4  Women Summer Shorts Lace Up Elastic Waistband ...   2.72             3   \n",
       "5  Plus Size Summer Women Casual Sleeveless Rompe...   3.92             9   \n",
       "6  Women Fashion Loose Lace Blouse V Neck Bat Sle...   7.00             6   \n",
       "7  Women's Baggy Tunic Dress Summer Dress Denim D...  12.00            11   \n",
       "8  Women's Summer Casual Dress Fashion Short Slee...  11.00            84   \n",
       "9  Summer Women Plus Size Casual Loose V Neck Sho...   5.78            22   \n",
       "\n",
       "   units_sold  uses_ad_boosts  rating  rating_count  rating_five_count  \\\n",
       "0         100               0    3.76            54               26.0   \n",
       "1       20000               1    3.45          6135             2269.0   \n",
       "2         100               0    3.57            14                5.0   \n",
       "3        5000               1    4.03           579              295.0   \n",
       "4         100               1    3.10            20                6.0   \n",
       "5          10               0    5.00             1                1.0   \n",
       "6       50000               0    3.84          6742             3172.0   \n",
       "7        1000               0    3.76           286              120.0   \n",
       "8         100               1    3.47            15                6.0   \n",
       "9        5000               0    3.60           687              287.0   \n",
       "\n",
       "   rating_four_count  ...  shipping_option_price  shipping_is_express  \\\n",
       "0                8.0  ...                      4                    0   \n",
       "1             1027.0  ...                      2                    0   \n",
       "2                4.0  ...                      3                    0   \n",
       "3              119.0  ...                      2                    0   \n",
       "4                4.0  ...                      1                    0   \n",
       "5                0.0  ...                      1                    0   \n",
       "6             1352.0  ...                      2                    0   \n",
       "7               56.0  ...                      3                    0   \n",
       "8                2.0  ...                      2                    0   \n",
       "9              128.0  ...                      2                    0   \n",
       "\n",
       "   countries_shipped_to inventory_total origin_country  \\\n",
       "0                    34              50             CN   \n",
       "1                    41              50             CN   \n",
       "2                    36              50             CN   \n",
       "3                    41              50             CN   \n",
       "4                    35              50             CN   \n",
       "5                    40              50             CN   \n",
       "6                    31              50             CN   \n",
       "7                   139              50             CN   \n",
       "8                    36              50             CN   \n",
       "9                    33              50             CN   \n",
       "\n",
       "                                       merchant_name merchant_rating_count  \\\n",
       "0                                           zgrdejia                   568   \n",
       "1                                          sarahouse                 17752   \n",
       "2                                             hxt520                   295   \n",
       "3                                           allenfan                 23832   \n",
       "4                                        happyhorses                 14482   \n",
       "5                                      zhoulinglinga                    65   \n",
       "6  uniquelifashionshopbb657bfe91d211e598c7063a14d...                 10194   \n",
       "7                                             soband                   342   \n",
       "8                                    chenxiangjunjun                   330   \n",
       "9                                       luoweiclothe                  5534   \n",
       "\n",
       "   merchant_rating               merchant_id                product_id  \n",
       "0         4.128521  595097d6a26f6e070cb878d1  5e9ae51d43d6a96e303acdb0  \n",
       "1         3.899673  56458aa03a698c35c9050988  58940d436a0d3d5da4e95a38  \n",
       "2         3.989831  5d464a1ffdf7bc44ee933c65  5ea10e2c617580260d55310a  \n",
       "3         4.020435  58cfdefdacb37b556efdff7c  5cedf17ad1d44c52c59e4aca  \n",
       "4         4.001588  5ab3b592c3911a095ad5dadb  5ebf5819ebac372b070b0e70  \n",
       "5         3.507692  5e4b9c3801ba9d210036fc5a  5ec645bafd107a02279c8c54  \n",
       "6         4.076516  5652f4053a698c76dc9a3f37  5c63a337d5e2ce4bbb3152cf  \n",
       "7         3.681287  5d45349676befe65691dcfbb  5e0ae5ebc2efb76ccf0a3391  \n",
       "8         3.803030  5d42980e8388970d32294ddc  5e6f1fb7fe4a5bb4b8bf36e5  \n",
       "9         3.999819  5ba2251b4315d12ebce873fa  5ccfaf238a8d535cec2dfb47  \n",
       "\n",
       "[10 rows x 27 columns]"
      ]
     },
     "execution_count": 13,
     "metadata": {},
     "output_type": "execute_result"
    }
   ],
   "source": [
    "df.head(10)"
   ]
  },
  {
   "cell_type": "code",
   "execution_count": 14,
   "id": "ccf44f43",
   "metadata": {
    "ExecuteTime": {
     "end_time": "2022-07-04T09:42:45.183776Z",
     "start_time": "2022-07-04T09:42:45.123937Z"
    },
    "scrolled": true
   },
   "outputs": [
    {
     "data": {
      "text/html": [
       "<div>\n",
       "<style scoped>\n",
       "    .dataframe tbody tr th:only-of-type {\n",
       "        vertical-align: middle;\n",
       "    }\n",
       "\n",
       "    .dataframe tbody tr th {\n",
       "        vertical-align: top;\n",
       "    }\n",
       "\n",
       "    .dataframe thead th {\n",
       "        text-align: right;\n",
       "    }\n",
       "</style>\n",
       "<table border=\"1\" class=\"dataframe\">\n",
       "  <thead>\n",
       "    <tr style=\"text-align: right;\">\n",
       "      <th></th>\n",
       "      <th>count</th>\n",
       "      <th>mean</th>\n",
       "      <th>std</th>\n",
       "      <th>min</th>\n",
       "      <th>25%</th>\n",
       "      <th>50%</th>\n",
       "      <th>75%</th>\n",
       "      <th>max</th>\n",
       "    </tr>\n",
       "  </thead>\n",
       "  <tbody>\n",
       "    <tr>\n",
       "      <th>price</th>\n",
       "      <td>1457.0</td>\n",
       "      <td>8.366575</td>\n",
       "      <td>3.893274</td>\n",
       "      <td>1.000000</td>\n",
       "      <td>5.860000</td>\n",
       "      <td>8.000000</td>\n",
       "      <td>11.00000</td>\n",
       "      <td>4.900000e+01</td>\n",
       "    </tr>\n",
       "    <tr>\n",
       "      <th>retail_price</th>\n",
       "      <td>1457.0</td>\n",
       "      <td>23.431023</td>\n",
       "      <td>30.868310</td>\n",
       "      <td>1.000000</td>\n",
       "      <td>7.000000</td>\n",
       "      <td>10.000000</td>\n",
       "      <td>26.00000</td>\n",
       "      <td>2.520000e+02</td>\n",
       "    </tr>\n",
       "    <tr>\n",
       "      <th>units_sold</th>\n",
       "      <td>1457.0</td>\n",
       "      <td>4339.216884</td>\n",
       "      <td>9037.937218</td>\n",
       "      <td>2.000000</td>\n",
       "      <td>100.000000</td>\n",
       "      <td>1000.000000</td>\n",
       "      <td>5000.00000</td>\n",
       "      <td>1.000000e+05</td>\n",
       "    </tr>\n",
       "    <tr>\n",
       "      <th>uses_ad_boosts</th>\n",
       "      <td>1457.0</td>\n",
       "      <td>0.437886</td>\n",
       "      <td>0.496297</td>\n",
       "      <td>0.000000</td>\n",
       "      <td>0.000000</td>\n",
       "      <td>0.000000</td>\n",
       "      <td>1.00000</td>\n",
       "      <td>1.000000e+00</td>\n",
       "    </tr>\n",
       "    <tr>\n",
       "      <th>rating</th>\n",
       "      <td>1457.0</td>\n",
       "      <td>3.778758</td>\n",
       "      <td>0.482481</td>\n",
       "      <td>1.000000</td>\n",
       "      <td>3.520000</td>\n",
       "      <td>3.830000</td>\n",
       "      <td>4.08000</td>\n",
       "      <td>5.000000e+00</td>\n",
       "    </tr>\n",
       "    <tr>\n",
       "      <th>rating_count</th>\n",
       "      <td>1457.0</td>\n",
       "      <td>886.133837</td>\n",
       "      <td>1928.281899</td>\n",
       "      <td>1.000000</td>\n",
       "      <td>27.000000</td>\n",
       "      <td>166.000000</td>\n",
       "      <td>876.00000</td>\n",
       "      <td>2.074400e+04</td>\n",
       "    </tr>\n",
       "    <tr>\n",
       "      <th>rating_five_count</th>\n",
       "      <td>1457.0</td>\n",
       "      <td>430.795470</td>\n",
       "      <td>956.840252</td>\n",
       "      <td>0.000000</td>\n",
       "      <td>11.000000</td>\n",
       "      <td>79.000000</td>\n",
       "      <td>400.00000</td>\n",
       "      <td>1.154800e+04</td>\n",
       "    </tr>\n",
       "    <tr>\n",
       "      <th>rating_four_count</th>\n",
       "      <td>1457.0</td>\n",
       "      <td>174.533288</td>\n",
       "      <td>388.128840</td>\n",
       "      <td>0.000000</td>\n",
       "      <td>5.000000</td>\n",
       "      <td>31.000000</td>\n",
       "      <td>168.00000</td>\n",
       "      <td>4.152000e+03</td>\n",
       "    </tr>\n",
       "    <tr>\n",
       "      <th>rating_three_count</th>\n",
       "      <td>1457.0</td>\n",
       "      <td>129.252574</td>\n",
       "      <td>295.739698</td>\n",
       "      <td>0.000000</td>\n",
       "      <td>4.000000</td>\n",
       "      <td>24.000000</td>\n",
       "      <td>128.00000</td>\n",
       "      <td>3.658000e+03</td>\n",
       "    </tr>\n",
       "    <tr>\n",
       "      <th>rating_two_count</th>\n",
       "      <td>1457.0</td>\n",
       "      <td>60.535347</td>\n",
       "      <td>139.752775</td>\n",
       "      <td>0.000000</td>\n",
       "      <td>2.000000</td>\n",
       "      <td>11.000000</td>\n",
       "      <td>62.00000</td>\n",
       "      <td>2.003000e+03</td>\n",
       "    </tr>\n",
       "    <tr>\n",
       "      <th>rating_one_count</th>\n",
       "      <td>1457.0</td>\n",
       "      <td>91.017159</td>\n",
       "      <td>194.803068</td>\n",
       "      <td>0.000000</td>\n",
       "      <td>3.000000</td>\n",
       "      <td>20.000000</td>\n",
       "      <td>94.00000</td>\n",
       "      <td>2.559000e+03</td>\n",
       "    </tr>\n",
       "    <tr>\n",
       "      <th>shipping_option_price</th>\n",
       "      <td>1457.0</td>\n",
       "      <td>2.345916</td>\n",
       "      <td>1.005363</td>\n",
       "      <td>1.000000</td>\n",
       "      <td>2.000000</td>\n",
       "      <td>2.000000</td>\n",
       "      <td>3.00000</td>\n",
       "      <td>1.200000e+01</td>\n",
       "    </tr>\n",
       "    <tr>\n",
       "      <th>shipping_is_express</th>\n",
       "      <td>1457.0</td>\n",
       "      <td>0.001373</td>\n",
       "      <td>0.037037</td>\n",
       "      <td>0.000000</td>\n",
       "      <td>0.000000</td>\n",
       "      <td>0.000000</td>\n",
       "      <td>0.00000</td>\n",
       "      <td>1.000000e+00</td>\n",
       "    </tr>\n",
       "    <tr>\n",
       "      <th>countries_shipped_to</th>\n",
       "      <td>1457.0</td>\n",
       "      <td>40.258065</td>\n",
       "      <td>19.852979</td>\n",
       "      <td>6.000000</td>\n",
       "      <td>31.000000</td>\n",
       "      <td>40.000000</td>\n",
       "      <td>43.00000</td>\n",
       "      <td>1.400000e+02</td>\n",
       "    </tr>\n",
       "    <tr>\n",
       "      <th>inventory_total</th>\n",
       "      <td>1457.0</td>\n",
       "      <td>49.849005</td>\n",
       "      <td>2.381935</td>\n",
       "      <td>1.000000</td>\n",
       "      <td>50.000000</td>\n",
       "      <td>50.000000</td>\n",
       "      <td>50.00000</td>\n",
       "      <td>5.000000e+01</td>\n",
       "    </tr>\n",
       "    <tr>\n",
       "      <th>merchant_rating_count</th>\n",
       "      <td>1457.0</td>\n",
       "      <td>23800.970487</td>\n",
       "      <td>69927.107078</td>\n",
       "      <td>3.000000</td>\n",
       "      <td>2044.000000</td>\n",
       "      <td>7874.000000</td>\n",
       "      <td>23161.00000</td>\n",
       "      <td>2.174765e+06</td>\n",
       "    </tr>\n",
       "    <tr>\n",
       "      <th>merchant_rating</th>\n",
       "      <td>1457.0</td>\n",
       "      <td>4.028146</td>\n",
       "      <td>0.196138</td>\n",
       "      <td>2.941176</td>\n",
       "      <td>3.917353</td>\n",
       "      <td>4.039474</td>\n",
       "      <td>4.15528</td>\n",
       "      <td>4.577519e+00</td>\n",
       "    </tr>\n",
       "  </tbody>\n",
       "</table>\n",
       "</div>"
      ],
      "text/plain": [
       "                        count          mean           std       min  \\\n",
       "price                  1457.0      8.366575      3.893274  1.000000   \n",
       "retail_price           1457.0     23.431023     30.868310  1.000000   \n",
       "units_sold             1457.0   4339.216884   9037.937218  2.000000   \n",
       "uses_ad_boosts         1457.0      0.437886      0.496297  0.000000   \n",
       "rating                 1457.0      3.778758      0.482481  1.000000   \n",
       "rating_count           1457.0    886.133837   1928.281899  1.000000   \n",
       "rating_five_count      1457.0    430.795470    956.840252  0.000000   \n",
       "rating_four_count      1457.0    174.533288    388.128840  0.000000   \n",
       "rating_three_count     1457.0    129.252574    295.739698  0.000000   \n",
       "rating_two_count       1457.0     60.535347    139.752775  0.000000   \n",
       "rating_one_count       1457.0     91.017159    194.803068  0.000000   \n",
       "shipping_option_price  1457.0      2.345916      1.005363  1.000000   \n",
       "shipping_is_express    1457.0      0.001373      0.037037  0.000000   \n",
       "countries_shipped_to   1457.0     40.258065     19.852979  6.000000   \n",
       "inventory_total        1457.0     49.849005      2.381935  1.000000   \n",
       "merchant_rating_count  1457.0  23800.970487  69927.107078  3.000000   \n",
       "merchant_rating        1457.0      4.028146      0.196138  2.941176   \n",
       "\n",
       "                               25%          50%          75%           max  \n",
       "price                     5.860000     8.000000     11.00000  4.900000e+01  \n",
       "retail_price              7.000000    10.000000     26.00000  2.520000e+02  \n",
       "units_sold              100.000000  1000.000000   5000.00000  1.000000e+05  \n",
       "uses_ad_boosts            0.000000     0.000000      1.00000  1.000000e+00  \n",
       "rating                    3.520000     3.830000      4.08000  5.000000e+00  \n",
       "rating_count             27.000000   166.000000    876.00000  2.074400e+04  \n",
       "rating_five_count        11.000000    79.000000    400.00000  1.154800e+04  \n",
       "rating_four_count         5.000000    31.000000    168.00000  4.152000e+03  \n",
       "rating_three_count        4.000000    24.000000    128.00000  3.658000e+03  \n",
       "rating_two_count          2.000000    11.000000     62.00000  2.003000e+03  \n",
       "rating_one_count          3.000000    20.000000     94.00000  2.559000e+03  \n",
       "shipping_option_price     2.000000     2.000000      3.00000  1.200000e+01  \n",
       "shipping_is_express       0.000000     0.000000      0.00000  1.000000e+00  \n",
       "countries_shipped_to     31.000000    40.000000     43.00000  1.400000e+02  \n",
       "inventory_total          50.000000    50.000000     50.00000  5.000000e+01  \n",
       "merchant_rating_count  2044.000000  7874.000000  23161.00000  2.174765e+06  \n",
       "merchant_rating           3.917353     4.039474      4.15528  4.577519e+00  "
      ]
     },
     "execution_count": 14,
     "metadata": {},
     "output_type": "execute_result"
    }
   ],
   "source": [
    "df.describe().T"
   ]
  },
  {
   "cell_type": "code",
   "execution_count": 15,
   "id": "ec87e0a6",
   "metadata": {
    "ExecuteTime": {
     "end_time": "2022-07-04T09:42:45.198737Z",
     "start_time": "2022-07-04T09:42:45.184773Z"
    }
   },
   "outputs": [
    {
     "data": {
      "text/plain": [
       "title                         object\n",
       "title_orig                    object\n",
       "price                        float64\n",
       "retail_price                   int64\n",
       "units_sold                     int64\n",
       "uses_ad_boosts                 int64\n",
       "rating                       float64\n",
       "rating_count                   int64\n",
       "rating_five_count            float64\n",
       "rating_four_count            float64\n",
       "rating_three_count           float64\n",
       "rating_two_count             float64\n",
       "rating_one_count             float64\n",
       "tags                          object\n",
       "product_color                 object\n",
       "product_variation_size_id     object\n",
       "shipping_option_name          object\n",
       "shipping_option_price          int64\n",
       "shipping_is_express            int64\n",
       "countries_shipped_to           int64\n",
       "inventory_total                int64\n",
       "origin_country                object\n",
       "merchant_name                 object\n",
       "merchant_rating_count          int64\n",
       "merchant_rating              float64\n",
       "merchant_id                   object\n",
       "product_id                    object\n",
       "dtype: object"
      ]
     },
     "execution_count": 15,
     "metadata": {},
     "output_type": "execute_result"
    }
   ],
   "source": [
    "df.dtypes"
   ]
  },
  {
   "cell_type": "code",
   "execution_count": 16,
   "id": "79b74a59",
   "metadata": {
    "ExecuteTime": {
     "end_time": "2022-07-04T09:42:45.230651Z",
     "start_time": "2022-07-04T09:42:45.199733Z"
    }
   },
   "outputs": [
    {
     "data": {
      "text/html": [
       "<div>\n",
       "<style scoped>\n",
       "    .dataframe tbody tr th:only-of-type {\n",
       "        vertical-align: middle;\n",
       "    }\n",
       "\n",
       "    .dataframe tbody tr th {\n",
       "        vertical-align: top;\n",
       "    }\n",
       "\n",
       "    .dataframe thead th {\n",
       "        text-align: right;\n",
       "    }\n",
       "</style>\n",
       "<table border=\"1\" class=\"dataframe\">\n",
       "  <thead>\n",
       "    <tr style=\"text-align: right;\">\n",
       "      <th></th>\n",
       "      <th>price</th>\n",
       "      <th>retail_price</th>\n",
       "      <th>units_sold</th>\n",
       "      <th>uses_ad_boosts</th>\n",
       "      <th>rating</th>\n",
       "      <th>rating_count</th>\n",
       "      <th>rating_five_count</th>\n",
       "      <th>rating_four_count</th>\n",
       "      <th>rating_three_count</th>\n",
       "      <th>rating_two_count</th>\n",
       "      <th>rating_one_count</th>\n",
       "      <th>shipping_option_price</th>\n",
       "      <th>shipping_is_express</th>\n",
       "      <th>countries_shipped_to</th>\n",
       "      <th>inventory_total</th>\n",
       "      <th>merchant_rating_count</th>\n",
       "      <th>merchant_rating</th>\n",
       "    </tr>\n",
       "  </thead>\n",
       "  <tbody>\n",
       "    <tr>\n",
       "      <th>price</th>\n",
       "      <td>1.000000</td>\n",
       "      <td>0.304725</td>\n",
       "      <td>-0.023270</td>\n",
       "      <td>-0.081578</td>\n",
       "      <td>0.075179</td>\n",
       "      <td>-0.001058</td>\n",
       "      <td>0.001092</td>\n",
       "      <td>0.002409</td>\n",
       "      <td>-0.011791</td>\n",
       "      <td>-0.011023</td>\n",
       "      <td>0.005178</td>\n",
       "      <td>0.877472</td>\n",
       "      <td>0.191794</td>\n",
       "      <td>-0.017899</td>\n",
       "      <td>-0.215626</td>\n",
       "      <td>-0.016289</td>\n",
       "      <td>0.033238</td>\n",
       "    </tr>\n",
       "    <tr>\n",
       "      <th>retail_price</th>\n",
       "      <td>0.304725</td>\n",
       "      <td>1.000000</td>\n",
       "      <td>0.010911</td>\n",
       "      <td>-0.023671</td>\n",
       "      <td>0.029740</td>\n",
       "      <td>0.045911</td>\n",
       "      <td>0.045099</td>\n",
       "      <td>0.052829</td>\n",
       "      <td>0.039877</td>\n",
       "      <td>0.036334</td>\n",
       "      <td>0.041074</td>\n",
       "      <td>0.264417</td>\n",
       "      <td>0.001284</td>\n",
       "      <td>0.041622</td>\n",
       "      <td>-0.007091</td>\n",
       "      <td>0.050782</td>\n",
       "      <td>0.064949</td>\n",
       "    </tr>\n",
       "    <tr>\n",
       "      <th>units_sold</th>\n",
       "      <td>-0.023270</td>\n",
       "      <td>0.010911</td>\n",
       "      <td>1.000000</td>\n",
       "      <td>-0.021297</td>\n",
       "      <td>0.095670</td>\n",
       "      <td>0.903303</td>\n",
       "      <td>0.879508</td>\n",
       "      <td>0.894473</td>\n",
       "      <td>0.900029</td>\n",
       "      <td>0.876017</td>\n",
       "      <td>0.844462</td>\n",
       "      <td>-0.032804</td>\n",
       "      <td>-0.017396</td>\n",
       "      <td>-0.023151</td>\n",
       "      <td>-0.001503</td>\n",
       "      <td>0.228983</td>\n",
       "      <td>0.130975</td>\n",
       "    </tr>\n",
       "    <tr>\n",
       "      <th>uses_ad_boosts</th>\n",
       "      <td>-0.081578</td>\n",
       "      <td>-0.023671</td>\n",
       "      <td>-0.021297</td>\n",
       "      <td>1.000000</td>\n",
       "      <td>-0.050130</td>\n",
       "      <td>-0.044384</td>\n",
       "      <td>-0.044013</td>\n",
       "      <td>-0.044705</td>\n",
       "      <td>-0.042433</td>\n",
       "      <td>-0.044041</td>\n",
       "      <td>-0.038070</td>\n",
       "      <td>-0.068404</td>\n",
       "      <td>-0.032723</td>\n",
       "      <td>-0.026952</td>\n",
       "      <td>0.034473</td>\n",
       "      <td>0.029562</td>\n",
       "      <td>-0.032637</td>\n",
       "    </tr>\n",
       "    <tr>\n",
       "      <th>rating</th>\n",
       "      <td>0.075179</td>\n",
       "      <td>0.029740</td>\n",
       "      <td>0.095670</td>\n",
       "      <td>-0.050130</td>\n",
       "      <td>1.000000</td>\n",
       "      <td>0.111166</td>\n",
       "      <td>0.154079</td>\n",
       "      <td>0.118200</td>\n",
       "      <td>0.067480</td>\n",
       "      <td>0.025949</td>\n",
       "      <td>-0.012981</td>\n",
       "      <td>0.077416</td>\n",
       "      <td>-0.003748</td>\n",
       "      <td>0.041287</td>\n",
       "      <td>-0.039254</td>\n",
       "      <td>0.066285</td>\n",
       "      <td>0.268140</td>\n",
       "    </tr>\n",
       "    <tr>\n",
       "      <th>rating_count</th>\n",
       "      <td>-0.001058</td>\n",
       "      <td>0.045911</td>\n",
       "      <td>0.903303</td>\n",
       "      <td>-0.044384</td>\n",
       "      <td>0.111166</td>\n",
       "      <td>1.000000</td>\n",
       "      <td>0.984322</td>\n",
       "      <td>0.996203</td>\n",
       "      <td>0.981064</td>\n",
       "      <td>0.946772</td>\n",
       "      <td>0.910329</td>\n",
       "      <td>-0.012638</td>\n",
       "      <td>-0.016851</td>\n",
       "      <td>-0.013031</td>\n",
       "      <td>0.001657</td>\n",
       "      <td>0.222432</td>\n",
       "      <td>0.154170</td>\n",
       "    </tr>\n",
       "    <tr>\n",
       "      <th>rating_five_count</th>\n",
       "      <td>0.001092</td>\n",
       "      <td>0.045099</td>\n",
       "      <td>0.879508</td>\n",
       "      <td>-0.044013</td>\n",
       "      <td>0.154079</td>\n",
       "      <td>0.984322</td>\n",
       "      <td>1.000000</td>\n",
       "      <td>0.980754</td>\n",
       "      <td>0.933823</td>\n",
       "      <td>0.877409</td>\n",
       "      <td>0.830386</td>\n",
       "      <td>-0.008116</td>\n",
       "      <td>-0.016524</td>\n",
       "      <td>-0.013013</td>\n",
       "      <td>-0.007735</td>\n",
       "      <td>0.228045</td>\n",
       "      <td>0.175754</td>\n",
       "    </tr>\n",
       "    <tr>\n",
       "      <th>rating_four_count</th>\n",
       "      <td>0.002409</td>\n",
       "      <td>0.052829</td>\n",
       "      <td>0.894473</td>\n",
       "      <td>-0.044705</td>\n",
       "      <td>0.118200</td>\n",
       "      <td>0.996203</td>\n",
       "      <td>0.980754</td>\n",
       "      <td>1.000000</td>\n",
       "      <td>0.977404</td>\n",
       "      <td>0.937133</td>\n",
       "      <td>0.895174</td>\n",
       "      <td>-0.009597</td>\n",
       "      <td>-0.016534</td>\n",
       "      <td>-0.011980</td>\n",
       "      <td>0.007850</td>\n",
       "      <td>0.222418</td>\n",
       "      <td>0.155769</td>\n",
       "    </tr>\n",
       "    <tr>\n",
       "      <th>rating_three_count</th>\n",
       "      <td>-0.011791</td>\n",
       "      <td>0.039877</td>\n",
       "      <td>0.900029</td>\n",
       "      <td>-0.042433</td>\n",
       "      <td>0.067480</td>\n",
       "      <td>0.981064</td>\n",
       "      <td>0.933823</td>\n",
       "      <td>0.977404</td>\n",
       "      <td>1.000000</td>\n",
       "      <td>0.985659</td>\n",
       "      <td>0.951736</td>\n",
       "      <td>-0.024530</td>\n",
       "      <td>-0.016209</td>\n",
       "      <td>-0.008669</td>\n",
       "      <td>0.011409</td>\n",
       "      <td>0.212992</td>\n",
       "      <td>0.122915</td>\n",
       "    </tr>\n",
       "    <tr>\n",
       "      <th>rating_two_count</th>\n",
       "      <td>-0.011023</td>\n",
       "      <td>0.036334</td>\n",
       "      <td>0.876017</td>\n",
       "      <td>-0.044041</td>\n",
       "      <td>0.025949</td>\n",
       "      <td>0.946772</td>\n",
       "      <td>0.877409</td>\n",
       "      <td>0.937133</td>\n",
       "      <td>0.985659</td>\n",
       "      <td>1.000000</td>\n",
       "      <td>0.981110</td>\n",
       "      <td>-0.025653</td>\n",
       "      <td>-0.015800</td>\n",
       "      <td>-0.011345</td>\n",
       "      <td>0.013761</td>\n",
       "      <td>0.192236</td>\n",
       "      <td>0.103005</td>\n",
       "    </tr>\n",
       "    <tr>\n",
       "      <th>rating_one_count</th>\n",
       "      <td>0.005178</td>\n",
       "      <td>0.041074</td>\n",
       "      <td>0.844462</td>\n",
       "      <td>-0.038070</td>\n",
       "      <td>-0.012981</td>\n",
       "      <td>0.910329</td>\n",
       "      <td>0.830386</td>\n",
       "      <td>0.895174</td>\n",
       "      <td>0.951736</td>\n",
       "      <td>0.981110</td>\n",
       "      <td>1.000000</td>\n",
       "      <td>-0.010470</td>\n",
       "      <td>-0.016757</td>\n",
       "      <td>-0.019907</td>\n",
       "      <td>0.011561</td>\n",
       "      <td>0.177238</td>\n",
       "      <td>0.091939</td>\n",
       "    </tr>\n",
       "    <tr>\n",
       "      <th>shipping_option_price</th>\n",
       "      <td>0.877472</td>\n",
       "      <td>0.264417</td>\n",
       "      <td>-0.032804</td>\n",
       "      <td>-0.068404</td>\n",
       "      <td>0.077416</td>\n",
       "      <td>-0.012638</td>\n",
       "      <td>-0.008116</td>\n",
       "      <td>-0.009597</td>\n",
       "      <td>-0.024530</td>\n",
       "      <td>-0.025653</td>\n",
       "      <td>-0.010470</td>\n",
       "      <td>1.000000</td>\n",
       "      <td>0.263915</td>\n",
       "      <td>-0.047145</td>\n",
       "      <td>-0.201021</td>\n",
       "      <td>-0.027795</td>\n",
       "      <td>0.037440</td>\n",
       "    </tr>\n",
       "    <tr>\n",
       "      <th>shipping_is_express</th>\n",
       "      <td>0.191794</td>\n",
       "      <td>0.001284</td>\n",
       "      <td>-0.017396</td>\n",
       "      <td>-0.032723</td>\n",
       "      <td>-0.003748</td>\n",
       "      <td>-0.016851</td>\n",
       "      <td>-0.016524</td>\n",
       "      <td>-0.016534</td>\n",
       "      <td>-0.016209</td>\n",
       "      <td>-0.015800</td>\n",
       "      <td>-0.016757</td>\n",
       "      <td>0.263915</td>\n",
       "      <td>1.000000</td>\n",
       "      <td>0.001386</td>\n",
       "      <td>-0.371341</td>\n",
       "      <td>-0.002814</td>\n",
       "      <td>0.047609</td>\n",
       "    </tr>\n",
       "    <tr>\n",
       "      <th>countries_shipped_to</th>\n",
       "      <td>-0.017899</td>\n",
       "      <td>0.041622</td>\n",
       "      <td>-0.023151</td>\n",
       "      <td>-0.026952</td>\n",
       "      <td>0.041287</td>\n",
       "      <td>-0.013031</td>\n",
       "      <td>-0.013013</td>\n",
       "      <td>-0.011980</td>\n",
       "      <td>-0.008669</td>\n",
       "      <td>-0.011345</td>\n",
       "      <td>-0.019907</td>\n",
       "      <td>-0.047145</td>\n",
       "      <td>0.001386</td>\n",
       "      <td>1.000000</td>\n",
       "      <td>-0.007890</td>\n",
       "      <td>0.136923</td>\n",
       "      <td>0.141096</td>\n",
       "    </tr>\n",
       "    <tr>\n",
       "      <th>inventory_total</th>\n",
       "      <td>-0.215626</td>\n",
       "      <td>-0.007091</td>\n",
       "      <td>-0.001503</td>\n",
       "      <td>0.034473</td>\n",
       "      <td>-0.039254</td>\n",
       "      <td>0.001657</td>\n",
       "      <td>-0.007735</td>\n",
       "      <td>0.007850</td>\n",
       "      <td>0.011409</td>\n",
       "      <td>0.013761</td>\n",
       "      <td>0.011561</td>\n",
       "      <td>-0.201021</td>\n",
       "      <td>-0.371341</td>\n",
       "      <td>-0.007890</td>\n",
       "      <td>1.000000</td>\n",
       "      <td>0.011380</td>\n",
       "      <td>-0.063439</td>\n",
       "    </tr>\n",
       "    <tr>\n",
       "      <th>merchant_rating_count</th>\n",
       "      <td>-0.016289</td>\n",
       "      <td>0.050782</td>\n",
       "      <td>0.228983</td>\n",
       "      <td>0.029562</td>\n",
       "      <td>0.066285</td>\n",
       "      <td>0.222432</td>\n",
       "      <td>0.228045</td>\n",
       "      <td>0.222418</td>\n",
       "      <td>0.212992</td>\n",
       "      <td>0.192236</td>\n",
       "      <td>0.177238</td>\n",
       "      <td>-0.027795</td>\n",
       "      <td>-0.002814</td>\n",
       "      <td>0.136923</td>\n",
       "      <td>0.011380</td>\n",
       "      <td>1.000000</td>\n",
       "      <td>0.159337</td>\n",
       "    </tr>\n",
       "    <tr>\n",
       "      <th>merchant_rating</th>\n",
       "      <td>0.033238</td>\n",
       "      <td>0.064949</td>\n",
       "      <td>0.130975</td>\n",
       "      <td>-0.032637</td>\n",
       "      <td>0.268140</td>\n",
       "      <td>0.154170</td>\n",
       "      <td>0.175754</td>\n",
       "      <td>0.155769</td>\n",
       "      <td>0.122915</td>\n",
       "      <td>0.103005</td>\n",
       "      <td>0.091939</td>\n",
       "      <td>0.037440</td>\n",
       "      <td>0.047609</td>\n",
       "      <td>0.141096</td>\n",
       "      <td>-0.063439</td>\n",
       "      <td>0.159337</td>\n",
       "      <td>1.000000</td>\n",
       "    </tr>\n",
       "  </tbody>\n",
       "</table>\n",
       "</div>"
      ],
      "text/plain": [
       "                          price  retail_price  units_sold  uses_ad_boosts  \\\n",
       "price                  1.000000      0.304725   -0.023270       -0.081578   \n",
       "retail_price           0.304725      1.000000    0.010911       -0.023671   \n",
       "units_sold            -0.023270      0.010911    1.000000       -0.021297   \n",
       "uses_ad_boosts        -0.081578     -0.023671   -0.021297        1.000000   \n",
       "rating                 0.075179      0.029740    0.095670       -0.050130   \n",
       "rating_count          -0.001058      0.045911    0.903303       -0.044384   \n",
       "rating_five_count      0.001092      0.045099    0.879508       -0.044013   \n",
       "rating_four_count      0.002409      0.052829    0.894473       -0.044705   \n",
       "rating_three_count    -0.011791      0.039877    0.900029       -0.042433   \n",
       "rating_two_count      -0.011023      0.036334    0.876017       -0.044041   \n",
       "rating_one_count       0.005178      0.041074    0.844462       -0.038070   \n",
       "shipping_option_price  0.877472      0.264417   -0.032804       -0.068404   \n",
       "shipping_is_express    0.191794      0.001284   -0.017396       -0.032723   \n",
       "countries_shipped_to  -0.017899      0.041622   -0.023151       -0.026952   \n",
       "inventory_total       -0.215626     -0.007091   -0.001503        0.034473   \n",
       "merchant_rating_count -0.016289      0.050782    0.228983        0.029562   \n",
       "merchant_rating        0.033238      0.064949    0.130975       -0.032637   \n",
       "\n",
       "                         rating  rating_count  rating_five_count  \\\n",
       "price                  0.075179     -0.001058           0.001092   \n",
       "retail_price           0.029740      0.045911           0.045099   \n",
       "units_sold             0.095670      0.903303           0.879508   \n",
       "uses_ad_boosts        -0.050130     -0.044384          -0.044013   \n",
       "rating                 1.000000      0.111166           0.154079   \n",
       "rating_count           0.111166      1.000000           0.984322   \n",
       "rating_five_count      0.154079      0.984322           1.000000   \n",
       "rating_four_count      0.118200      0.996203           0.980754   \n",
       "rating_three_count     0.067480      0.981064           0.933823   \n",
       "rating_two_count       0.025949      0.946772           0.877409   \n",
       "rating_one_count      -0.012981      0.910329           0.830386   \n",
       "shipping_option_price  0.077416     -0.012638          -0.008116   \n",
       "shipping_is_express   -0.003748     -0.016851          -0.016524   \n",
       "countries_shipped_to   0.041287     -0.013031          -0.013013   \n",
       "inventory_total       -0.039254      0.001657          -0.007735   \n",
       "merchant_rating_count  0.066285      0.222432           0.228045   \n",
       "merchant_rating        0.268140      0.154170           0.175754   \n",
       "\n",
       "                       rating_four_count  rating_three_count  \\\n",
       "price                           0.002409           -0.011791   \n",
       "retail_price                    0.052829            0.039877   \n",
       "units_sold                      0.894473            0.900029   \n",
       "uses_ad_boosts                 -0.044705           -0.042433   \n",
       "rating                          0.118200            0.067480   \n",
       "rating_count                    0.996203            0.981064   \n",
       "rating_five_count               0.980754            0.933823   \n",
       "rating_four_count               1.000000            0.977404   \n",
       "rating_three_count              0.977404            1.000000   \n",
       "rating_two_count                0.937133            0.985659   \n",
       "rating_one_count                0.895174            0.951736   \n",
       "shipping_option_price          -0.009597           -0.024530   \n",
       "shipping_is_express            -0.016534           -0.016209   \n",
       "countries_shipped_to           -0.011980           -0.008669   \n",
       "inventory_total                 0.007850            0.011409   \n",
       "merchant_rating_count           0.222418            0.212992   \n",
       "merchant_rating                 0.155769            0.122915   \n",
       "\n",
       "                       rating_two_count  rating_one_count  \\\n",
       "price                         -0.011023          0.005178   \n",
       "retail_price                   0.036334          0.041074   \n",
       "units_sold                     0.876017          0.844462   \n",
       "uses_ad_boosts                -0.044041         -0.038070   \n",
       "rating                         0.025949         -0.012981   \n",
       "rating_count                   0.946772          0.910329   \n",
       "rating_five_count              0.877409          0.830386   \n",
       "rating_four_count              0.937133          0.895174   \n",
       "rating_three_count             0.985659          0.951736   \n",
       "rating_two_count               1.000000          0.981110   \n",
       "rating_one_count               0.981110          1.000000   \n",
       "shipping_option_price         -0.025653         -0.010470   \n",
       "shipping_is_express           -0.015800         -0.016757   \n",
       "countries_shipped_to          -0.011345         -0.019907   \n",
       "inventory_total                0.013761          0.011561   \n",
       "merchant_rating_count          0.192236          0.177238   \n",
       "merchant_rating                0.103005          0.091939   \n",
       "\n",
       "                       shipping_option_price  shipping_is_express  \\\n",
       "price                               0.877472             0.191794   \n",
       "retail_price                        0.264417             0.001284   \n",
       "units_sold                         -0.032804            -0.017396   \n",
       "uses_ad_boosts                     -0.068404            -0.032723   \n",
       "rating                              0.077416            -0.003748   \n",
       "rating_count                       -0.012638            -0.016851   \n",
       "rating_five_count                  -0.008116            -0.016524   \n",
       "rating_four_count                  -0.009597            -0.016534   \n",
       "rating_three_count                 -0.024530            -0.016209   \n",
       "rating_two_count                   -0.025653            -0.015800   \n",
       "rating_one_count                   -0.010470            -0.016757   \n",
       "shipping_option_price               1.000000             0.263915   \n",
       "shipping_is_express                 0.263915             1.000000   \n",
       "countries_shipped_to               -0.047145             0.001386   \n",
       "inventory_total                    -0.201021            -0.371341   \n",
       "merchant_rating_count              -0.027795            -0.002814   \n",
       "merchant_rating                     0.037440             0.047609   \n",
       "\n",
       "                       countries_shipped_to  inventory_total  \\\n",
       "price                             -0.017899        -0.215626   \n",
       "retail_price                       0.041622        -0.007091   \n",
       "units_sold                        -0.023151        -0.001503   \n",
       "uses_ad_boosts                    -0.026952         0.034473   \n",
       "rating                             0.041287        -0.039254   \n",
       "rating_count                      -0.013031         0.001657   \n",
       "rating_five_count                 -0.013013        -0.007735   \n",
       "rating_four_count                 -0.011980         0.007850   \n",
       "rating_three_count                -0.008669         0.011409   \n",
       "rating_two_count                  -0.011345         0.013761   \n",
       "rating_one_count                  -0.019907         0.011561   \n",
       "shipping_option_price             -0.047145        -0.201021   \n",
       "shipping_is_express                0.001386        -0.371341   \n",
       "countries_shipped_to               1.000000        -0.007890   \n",
       "inventory_total                   -0.007890         1.000000   \n",
       "merchant_rating_count              0.136923         0.011380   \n",
       "merchant_rating                    0.141096        -0.063439   \n",
       "\n",
       "                       merchant_rating_count  merchant_rating  \n",
       "price                              -0.016289         0.033238  \n",
       "retail_price                        0.050782         0.064949  \n",
       "units_sold                          0.228983         0.130975  \n",
       "uses_ad_boosts                      0.029562        -0.032637  \n",
       "rating                              0.066285         0.268140  \n",
       "rating_count                        0.222432         0.154170  \n",
       "rating_five_count                   0.228045         0.175754  \n",
       "rating_four_count                   0.222418         0.155769  \n",
       "rating_three_count                  0.212992         0.122915  \n",
       "rating_two_count                    0.192236         0.103005  \n",
       "rating_one_count                    0.177238         0.091939  \n",
       "shipping_option_price              -0.027795         0.037440  \n",
       "shipping_is_express                -0.002814         0.047609  \n",
       "countries_shipped_to                0.136923         0.141096  \n",
       "inventory_total                     0.011380        -0.063439  \n",
       "merchant_rating_count               1.000000         0.159337  \n",
       "merchant_rating                     0.159337         1.000000  "
      ]
     },
     "execution_count": 16,
     "metadata": {},
     "output_type": "execute_result"
    }
   ],
   "source": [
    "corr = df.corr()\n",
    "corr"
   ]
  },
  {
   "cell_type": "code",
   "execution_count": 17,
   "id": "2ddee32c",
   "metadata": {
    "ExecuteTime": {
     "end_time": "2022-07-04T09:42:46.368722Z",
     "start_time": "2022-07-04T09:42:45.231647Z"
    }
   },
   "outputs": [
    {
     "data": {
      "image/png": "[encoded data removed]",
      "text/plain": [
       "<Figure size 864x576 with 2 Axes>"
      ]
     },
     "metadata": {
      "needs_background": "light"
     },
     "output_type": "display_data"
    }
   ],
   "source": [
    "fig, ax = plt.subplots(figsize=(12,8))\n",
    "fig = sns.heatmap(df.corr(), annot=True,  cmap=sns.cubehelix_palette(as_cmap=True), ax=ax)"
   ]
  },
  {
   "cell_type": "markdown",
   "id": "0ea2f688",
   "metadata": {},
   "source": [
    "As we can see from the heatmap, the correlation of our target variable, units sold, is the highest (0.9) with number of rating of a product followed by count of rating of a merchant. On the contrary, the correlation between units sold and price is found to be not so strong."
   ]
  },
  {
   "cell_type": "markdown",
   "id": "b58183e6",
   "metadata": {},
   "source": [
    "### Units Sold"
   ]
  },
  {
   "cell_type": "markdown",
   "id": "b080c394",
   "metadata": {},
   "source": [
    "Getting the distinct values of units_sold to group them for better analysis."
   ]
  },
  {
   "cell_type": "code",
   "execution_count": 18,
   "id": "d6653ca1",
   "metadata": {
    "ExecuteTime": {
     "end_time": "2022-07-04T09:42:46.446515Z",
     "start_time": "2022-07-04T09:42:46.370717Z"
    }
   },
   "outputs": [
    {
     "data": {
      "text/html": [
       "<div>\n",
       "<style scoped>\n",
       "    .dataframe tbody tr th:only-of-type {\n",
       "        vertical-align: middle;\n",
       "    }\n",
       "\n",
       "    .dataframe tbody tr th {\n",
       "        vertical-align: top;\n",
       "    }\n",
       "\n",
       "    .dataframe thead th {\n",
       "        text-align: right;\n",
       "    }\n",
       "</style>\n",
       "<table border=\"1\" class=\"dataframe\">\n",
       "  <thead>\n",
       "    <tr style=\"text-align: right;\">\n",
       "      <th></th>\n",
       "      <th>units_sold</th>\n",
       "    </tr>\n",
       "  </thead>\n",
       "  <tbody>\n",
       "    <tr>\n",
       "      <th>0</th>\n",
       "      <td>2</td>\n",
       "    </tr>\n",
       "    <tr>\n",
       "      <th>1</th>\n",
       "      <td>7</td>\n",
       "    </tr>\n",
       "    <tr>\n",
       "      <th>2</th>\n",
       "      <td>10</td>\n",
       "    </tr>\n",
       "    <tr>\n",
       "      <th>3</th>\n",
       "      <td>50</td>\n",
       "    </tr>\n",
       "    <tr>\n",
       "      <th>4</th>\n",
       "      <td>100</td>\n",
       "    </tr>\n",
       "    <tr>\n",
       "      <th>5</th>\n",
       "      <td>1000</td>\n",
       "    </tr>\n",
       "    <tr>\n",
       "      <th>6</th>\n",
       "      <td>5000</td>\n",
       "    </tr>\n",
       "    <tr>\n",
       "      <th>7</th>\n",
       "      <td>10000</td>\n",
       "    </tr>\n",
       "    <tr>\n",
       "      <th>8</th>\n",
       "      <td>20000</td>\n",
       "    </tr>\n",
       "    <tr>\n",
       "      <th>9</th>\n",
       "      <td>50000</td>\n",
       "    </tr>\n",
       "    <tr>\n",
       "      <th>10</th>\n",
       "      <td>100000</td>\n",
       "    </tr>\n",
       "  </tbody>\n",
       "</table>\n",
       "</div>"
      ],
      "text/plain": [
       "    units_sold\n",
       "0            2\n",
       "1            7\n",
       "2           10\n",
       "3           50\n",
       "4          100\n",
       "5         1000\n",
       "6         5000\n",
       "7        10000\n",
       "8        20000\n",
       "9        50000\n",
       "10      100000"
      ]
     },
     "execution_count": 18,
     "metadata": {},
     "output_type": "execute_result"
    }
   ],
   "source": [
    "q1= \"\"\"\n",
    "SELECT DISTINCT units_sold\n",
    "FROM df\n",
    "order by units_sold\n",
    "\"\"\"\n",
    "query1 = ps.sqldf(q1, locals())\n",
    "query1"
   ]
  },
  {
   "cell_type": "code",
   "execution_count": 19,
   "id": "28c557df",
   "metadata": {
    "ExecuteTime": {
     "end_time": "2022-07-04T09:42:46.461474Z",
     "start_time": "2022-07-04T09:42:46.448510Z"
    }
   },
   "outputs": [
    {
     "data": {
      "text/plain": [
       "0       1\n",
       "1       5\n",
       "2       1\n",
       "3       3\n",
       "4       1\n",
       "       ..\n",
       "1568    4\n",
       "1569    1\n",
       "1570    1\n",
       "1571    1\n",
       "1572    1\n",
       "Name: units_sold_group, Length: 1457, dtype: int64"
      ]
     },
     "execution_count": 19,
     "metadata": {},
     "output_type": "execute_result"
    }
   ],
   "source": [
    "df['units_sold_group'] = df['units_sold'].apply(lambda x: 1 if x <= 100 else 2 if x == 1000 else 3 if x == 5000 else 4 \\\n",
    "                                                if x == 10000 else 5 if x == 20000 else 6 if x == 50000 else 7)\n",
    "df.units_sold_group"
   ]
  },
  {
   "cell_type": "markdown",
   "id": "8d277fb6",
   "metadata": {},
   "source": [
    "Groups of units_sold:\n",
    "1. Less than 100\n",
    "2. Between 101 and 1000\n",
    "3. Between 1001 and 5000\n",
    "4. Between 5001 and 10000\n",
    "5. Between 10001 and 20000\n",
    "6. Between 20001 and 50000\n",
    "7. Between 50001 and 100000"
   ]
  },
  {
   "cell_type": "markdown",
   "id": "6a2edd9b",
   "metadata": {},
   "source": [
    "#### Discount"
   ]
  },
  {
   "cell_type": "markdown",
   "id": "7a59091e",
   "metadata": {},
   "source": [
    "Due to lack of complete information, we will consider the price as discounted price while retail price is the maximum retail price. So, the difference between the two can be accounted a discount given on each product during the summer sale."
   ]
  },
  {
   "cell_type": "code",
   "execution_count": 20,
   "id": "10c5ea8a",
   "metadata": {
    "ExecuteTime": {
     "end_time": "2022-07-04T09:42:46.477435Z",
     "start_time": "2022-07-04T09:42:46.463469Z"
    }
   },
   "outputs": [
    {
     "name": "stdout",
     "output_type": "stream",
     "text": [
      "0   -14.29\n",
      "1    63.64\n",
      "2    81.40\n",
      "3     0.00\n",
      "4     9.33\n",
      "5    56.44\n",
      "6   -16.67\n",
      "7    -9.09\n",
      "8    86.90\n",
      "9    73.73\n",
      "Name: discount_percn, dtype: float64\n"
     ]
    }
   ],
   "source": [
    "df['discount'] = df['retail_price'] - df['price']\n",
    "df['discount_percn'] = round(df['discount']/df['retail_price'] * 100, 2)\n",
    "print(df['discount_percn'].head(10))"
   ]
  },
  {
   "cell_type": "code",
   "execution_count": 21,
   "id": "54b42bd3",
   "metadata": {
    "ExecuteTime": {
     "end_time": "2022-07-04T09:42:46.492391Z",
     "start_time": "2022-07-04T09:42:46.479427Z"
    }
   },
   "outputs": [
    {
     "data": {
      "text/plain": [
       "0.014288410297255607"
      ]
     },
     "execution_count": 21,
     "metadata": {},
     "output_type": "execute_result"
    }
   ],
   "source": [
    "corr_sale_discount = df['units_sold'].corr(df['discount'])\n",
    "corr_sale_discount"
   ]
  },
  {
   "cell_type": "markdown",
   "id": "e1d16382",
   "metadata": {},
   "source": [
    "The discount feature appears to be only weakly positively correlated with number of units sold."
   ]
  },
  {
   "cell_type": "code",
   "execution_count": 22,
   "id": "bb72028a",
   "metadata": {
    "ExecuteTime": {
     "end_time": "2022-07-04T09:42:46.849360Z",
     "start_time": "2022-07-04T09:42:46.493388Z"
    }
   },
   "outputs": [
    {
     "data": {
      "text/plain": [
       "Text(0.5, 0, 'Units Sold')"
      ]
     },
     "execution_count": 22,
     "metadata": {},
     "output_type": "execute_result"
    },
    {
     "data": {
      "image/png": "[encoded data removed]",
      "text/plain": [
       "<Figure size 1080x720 with 1 Axes>"
      ]
     },
     "metadata": {
      "needs_background": "light"
     },
     "output_type": "display_data"
    }
   ],
   "source": [
    "fig, ax = plt.subplots(figsize = (15, 10))\n",
    "sns.barplot(x = df.units_sold_group, y = df.discount_percn, ax = ax)\n",
    "\n",
    "units_sold_order = ['0.1k-1k', '1k-5k', '5k-10k', '10k-20k', '20k-50k', '50k-100k', '100k+']\n",
    "ax.set_xticklabels(units_sold_order)\n",
    "ax.set_ylabel('Discount (%)', fontweight = 'bold')\n",
    "ax.set_xlabel('Units Sold', fontweight = 'bold')"
   ]
  },
  {
   "cell_type": "markdown",
   "id": "ddd96c90",
   "metadata": {},
   "source": [
    "We can conclude from the above diagram that higher the discount, higher is the number of clothes sold during the sale as this has been also confirmed by the positive correlation between the two. 100k+ units have a discount of nearly 65% while number of products selling between 1k-50k having a discount range of 20%-30%. This notion confirms the price sensitive behaviour of buyers."
   ]
  },
  {
   "cell_type": "markdown",
   "id": "30b11ff8",
   "metadata": {},
   "source": [
    "#### User Ratings"
   ]
  },
  {
   "cell_type": "markdown",
   "id": "e60a28b5",
   "metadata": {
    "ExecuteTime": {
     "end_time": "2022-07-04T07:22:39.592555Z",
     "start_time": "2022-07-04T07:22:39.573606Z"
    }
   },
   "source": [
    "In this section, we look at 5 most rated and 5 least rated products along with graphical relationship between ratings and number of products sold."
   ]
  },
  {
   "cell_type": "code",
   "execution_count": 23,
   "id": "3a01c224",
   "metadata": {
    "ExecuteTime": {
     "end_time": "2022-07-04T09:42:46.912120Z",
     "start_time": "2022-07-04T09:42:46.851282Z"
    }
   },
   "outputs": [
    {
     "data": {
      "text/html": [
       "<div>\n",
       "<style scoped>\n",
       "    .dataframe tbody tr th:only-of-type {\n",
       "        vertical-align: middle;\n",
       "    }\n",
       "\n",
       "    .dataframe tbody tr th {\n",
       "        vertical-align: top;\n",
       "    }\n",
       "\n",
       "    .dataframe thead th {\n",
       "        text-align: right;\n",
       "    }\n",
       "</style>\n",
       "<table border=\"1\" class=\"dataframe\">\n",
       "  <thead>\n",
       "    <tr style=\"text-align: right;\">\n",
       "      <th></th>\n",
       "      <th>Product_Name</th>\n",
       "      <th>Ratings</th>\n",
       "    </tr>\n",
       "  </thead>\n",
       "  <tbody>\n",
       "    <tr>\n",
       "      <th>0</th>\n",
       "      <td>Femmes Camisole extensible Spaghetti Strap Long Débardeur Slip Mini Dress 4Color SIZE XXL est disponible maintenant</td>\n",
       "      <td>20744</td>\n",
       "    </tr>\n",
       "    <tr>\n",
       "      <th>1</th>\n",
       "      <td>Nouvelle arrivée femmes été sexy robe de soirée élégante sans manches col roulé mini robe</td>\n",
       "      <td>18393</td>\n",
       "    </tr>\n",
       "    <tr>\n",
       "      <th>2</th>\n",
       "      <td>2018 New Fashion Women's Tops Sexy Strappy Sleeveless Dentelle sans manches Crop Cops</td>\n",
       "      <td>17980</td>\n",
       "    </tr>\n",
       "    <tr>\n",
       "      <th>3</th>\n",
       "      <td>2018 Mode d'été Femmes Débardeurs Débardeurs Femmes Sexy Culottes sans manches Casual Style Femmes Coton Imprimé Dentelle Coutures Irrégulières Blouse Tops（S-5XL)</td>\n",
       "      <td>17444</td>\n",
       "    </tr>\n",
       "    <tr>\n",
       "      <th>4</th>\n",
       "      <td>Femmes sexy Boho à capuche moulante sans manches Sexy Party Cocktail Mini robe mode MEIfang</td>\n",
       "      <td>14568</td>\n",
       "    </tr>\n",
       "  </tbody>\n",
       "</table>\n",
       "</div>"
      ],
      "text/plain": [
       "                                                                                                                                                         Product_Name  \\\n",
       "0                                                 Femmes Camisole extensible Spaghetti Strap Long Débardeur Slip Mini Dress 4Color SIZE XXL est disponible maintenant   \n",
       "1                                                                           Nouvelle arrivée femmes été sexy robe de soirée élégante sans manches col roulé mini robe   \n",
       "2                                                                               2018 New Fashion Women's Tops Sexy Strappy Sleeveless Dentelle sans manches Crop Cops   \n",
       "3  2018 Mode d'été Femmes Débardeurs Débardeurs Femmes Sexy Culottes sans manches Casual Style Femmes Coton Imprimé Dentelle Coutures Irrégulières Blouse Tops（S-5XL)   \n",
       "4                                                                         Femmes sexy Boho à capuche moulante sans manches Sexy Party Cocktail Mini robe mode MEIfang   \n",
       "\n",
       "   Ratings  \n",
       "0    20744  \n",
       "1    18393  \n",
       "2    17980  \n",
       "3    17444  \n",
       "4    14568  "
      ]
     },
     "execution_count": 23,
     "metadata": {},
     "output_type": "execute_result"
    }
   ],
   "source": [
    "q2 = \"\"\"\n",
    "SELECT title as Product_Name, rating_count as Ratings\n",
    "from df\n",
    "order by Ratings desc\n",
    "limit 5 \n",
    "\"\"\"\n",
    "\n",
    "query2 = ps.sqldf(q2, locals())\n",
    "pd.set_option('display.max_colwidth', None)\n",
    "query2"
   ]
  },
  {
   "cell_type": "code",
   "execution_count": 24,
   "id": "244bc573",
   "metadata": {
    "ExecuteTime": {
     "end_time": "2022-07-04T09:42:47.037312Z",
     "start_time": "2022-07-04T09:42:46.914114Z"
    },
    "scrolled": true
   },
   "outputs": [
    {
     "data": {
      "text/html": [
       "<div>\n",
       "<style scoped>\n",
       "    .dataframe tbody tr th:only-of-type {\n",
       "        vertical-align: middle;\n",
       "    }\n",
       "\n",
       "    .dataframe tbody tr th {\n",
       "        vertical-align: top;\n",
       "    }\n",
       "\n",
       "    .dataframe thead th {\n",
       "        text-align: right;\n",
       "    }\n",
       "</style>\n",
       "<table border=\"1\" class=\"dataframe\">\n",
       "  <thead>\n",
       "    <tr style=\"text-align: right;\">\n",
       "      <th></th>\n",
       "      <th>Product_Name</th>\n",
       "      <th>Ratings</th>\n",
       "    </tr>\n",
       "  </thead>\n",
       "  <tbody>\n",
       "    <tr>\n",
       "      <th>0</th>\n",
       "      <td>Plus la taille d'été femmes décontracté sans manches barboteuses combinaisons combinaison de couleur unie jarretelles pantalons lâche salopette</td>\n",
       "      <td>1</td>\n",
       "    </tr>\n",
       "    <tr>\n",
       "      <th>1</th>\n",
       "      <td>Dames d'été Tie Dye Imprimer manches courtes hors épaule Casual Plus Size Dress</td>\n",
       "      <td>1</td>\n",
       "    </tr>\n",
       "    <tr>\n",
       "      <th>2</th>\n",
       "      <td>S-5XL Nouvelle Mode Femmes Tops Blouse Sans Manches Col En V Solide Couleur Débardeur Femmes D'été Chemise Tops Plus La Taille Causal Lâche</td>\n",
       "      <td>1</td>\n",
       "    </tr>\n",
       "    <tr>\n",
       "      <th>3</th>\n",
       "      <td>S-5XL Nouvelle Mode Femmes Tops Blouse Sans Manches Col En V Solide Couleur Débardeur Femmes D'été Chemise Tops Plus La Taille Causal Lâche</td>\n",
       "      <td>1</td>\n",
       "    </tr>\n",
       "    <tr>\n",
       "      <th>4</th>\n",
       "      <td>Anti-buée de natation d'été masque complet plongée sous-marine plongée avec tuba pour GoPro (S / M, L / XL)</td>\n",
       "      <td>1</td>\n",
       "    </tr>\n",
       "  </tbody>\n",
       "</table>\n",
       "</div>"
      ],
      "text/plain": [
       "                                                                                                                                      Product_Name  \\\n",
       "0  Plus la taille d'été femmes décontracté sans manches barboteuses combinaisons combinaison de couleur unie jarretelles pantalons lâche salopette   \n",
       "1                                                                  Dames d'été Tie Dye Imprimer manches courtes hors épaule Casual Plus Size Dress   \n",
       "2      S-5XL Nouvelle Mode Femmes Tops Blouse Sans Manches Col En V Solide Couleur Débardeur Femmes D'été Chemise Tops Plus La Taille Causal Lâche   \n",
       "3      S-5XL Nouvelle Mode Femmes Tops Blouse Sans Manches Col En V Solide Couleur Débardeur Femmes D'été Chemise Tops Plus La Taille Causal Lâche   \n",
       "4                                      Anti-buée de natation d'été masque complet plongée sous-marine plongée avec tuba pour GoPro (S / M, L / XL)   \n",
       "\n",
       "   Ratings  \n",
       "0        1  \n",
       "1        1  \n",
       "2        1  \n",
       "3        1  \n",
       "4        1  "
      ]
     },
     "execution_count": 24,
     "metadata": {},
     "output_type": "execute_result"
    }
   ],
   "source": [
    "q3 = \"\"\"\n",
    "SELECT title as Product_Name, rating_count as Ratings\n",
    "from df\n",
    "order by Ratings\n",
    "limit 5\n",
    "\"\"\"\n",
    "\n",
    "query3 = ps.sqldf(q3, locals())\n",
    "query3"
   ]
  },
  {
   "cell_type": "code",
   "execution_count": 42,
   "id": "a83fba08",
   "metadata": {
    "ExecuteTime": {
     "end_time": "2022-07-04T10:26:01.483053Z",
     "start_time": "2022-07-04T10:26:01.134828Z"
    }
   },
   "outputs": [
    {
     "data": {
      "text/plain": [
       "Text(0.5, 0, 'Units Sold')"
      ]
     },
     "execution_count": 42,
     "metadata": {},
     "output_type": "execute_result"
    },
    {
     "data": {
      "image/png": "[encoded data removed]",
      "text/plain": [
       "<Figure size 1080x720 with 1 Axes>"
      ]
     },
     "metadata": {
      "needs_background": "light"
     },
     "output_type": "display_data"
    }
   ],
   "source": [
    "fig, ax = plt.subplots(figsize = (15, 10))\n",
    "sns.barplot(x = df.units_sold_group, y = df.rating_count, ax = ax)\n",
    "\n",
    "units_sold_order = ['0.1k-1k', '1k-5k', '5k-10k', '10k-20k', '20k-50k', '50k-100k', '100k+']\n",
    "ax.set_xticklabels(units_sold_order)\n",
    "ax.set_ylabel('Rating Count', fontweight = 'bold')\n",
    "ax.set_xlabel('Units Sold', fontweight = 'bold')"
   ]
  },
  {
   "cell_type": "markdown",
   "id": "c312364c",
   "metadata": {},
   "source": [
    "#### Ad Boosts"
   ]
  },
  {
   "cell_type": "code",
   "execution_count": 26,
   "id": "3df02e84",
   "metadata": {
    "ExecuteTime": {
     "end_time": "2022-07-04T09:42:47.414795Z",
     "start_time": "2022-07-04T09:42:47.353960Z"
    }
   },
   "outputs": [
    {
     "data": {
      "text/html": [
       "<div>\n",
       "<style scoped>\n",
       "    .dataframe tbody tr th:only-of-type {\n",
       "        vertical-align: middle;\n",
       "    }\n",
       "\n",
       "    .dataframe tbody tr th {\n",
       "        vertical-align: top;\n",
       "    }\n",
       "\n",
       "    .dataframe thead th {\n",
       "        text-align: right;\n",
       "    }\n",
       "</style>\n",
       "<table border=\"1\" class=\"dataframe\">\n",
       "  <thead>\n",
       "    <tr style=\"text-align: right;\">\n",
       "      <th></th>\n",
       "      <th>Sale_with_adboosts</th>\n",
       "    </tr>\n",
       "  </thead>\n",
       "  <tbody>\n",
       "    <tr>\n",
       "      <th>0</th>\n",
       "      <td>638</td>\n",
       "    </tr>\n",
       "    <tr>\n",
       "      <th>1</th>\n",
       "      <td>819</td>\n",
       "    </tr>\n",
       "  </tbody>\n",
       "</table>\n",
       "</div>"
      ],
      "text/plain": [
       "   Sale_with_adboosts\n",
       "0                 638\n",
       "1                 819"
      ]
     },
     "execution_count": 26,
     "metadata": {},
     "output_type": "execute_result"
    }
   ],
   "source": [
    "q4 = \"\"\"\n",
    "SELECT count(units_sold) as Sale_with_adboosts\n",
    "from df\n",
    "where uses_ad_boosts = 1\n",
    "UNION\n",
    "SELECT count(units_sold) as Sale_without_adboosts\n",
    "from df\n",
    "where uses_ad_boosts = 0\n",
    "\"\"\"\n",
    "query4 = ps.sqldf(q4, locals())\n",
    "query4"
   ]
  },
  {
   "cell_type": "code",
   "execution_count": 27,
   "id": "24056181",
   "metadata": {
    "ExecuteTime": {
     "end_time": "2022-07-04T09:42:47.902114Z",
     "start_time": "2022-07-04T09:42:47.417789Z"
    },
    "scrolled": false
   },
   "outputs": [
    {
     "data": {
      "text/plain": [
       "Text(0.5, 0, 'Units Sold')"
      ]
     },
     "execution_count": 27,
     "metadata": {},
     "output_type": "execute_result"
    },
    {
     "data": {
      "image/png": "[encoded data removed]",
      "text/plain": [
       "<Figure size 720x864 with 1 Axes>"
      ]
     },
     "metadata": {
      "needs_background": "light"
     },
     "output_type": "display_data"
    }
   ],
   "source": [
    "fig, ax = plt.subplots(figsize = (10, 12))\n",
    "sns.barplot(x = 'units_sold_group', y='price', data=df, hue='uses_ad_boosts')\n",
    "\n",
    "units_sold_order = ['0.1k-1k', '1k-5k', '5k-10k', '10k-20k', '20k-50k', '50k-100k', '100k+']\n",
    "ax.set_xticklabels(units_sold_order)\n",
    "ax.set_ylabel('Price (Euro)', fontweight = 'bold')\n",
    "ax.set_xlabel('Units Sold', fontweight = 'bold')"
   ]
  },
  {
   "cell_type": "markdown",
   "id": "c934333c",
   "metadata": {},
   "source": [
    "Insight: Ad boost has no significant impact on the sale of the products. This is a signal for the marketing team work on better and compelling campaigns. "
   ]
  },
  {
   "cell_type": "markdown",
   "id": "d5c2d5f9",
   "metadata": {},
   "source": [
    "### Product Features"
   ]
  },
  {
   "cell_type": "markdown",
   "id": "264d6864",
   "metadata": {},
   "source": [
    "#### Size"
   ]
  },
  {
   "cell_type": "code",
   "execution_count": 28,
   "id": "1768d772",
   "metadata": {
    "ExecuteTime": {
     "end_time": "2022-07-04T09:42:47.963228Z",
     "start_time": "2022-07-04T09:42:47.904110Z"
    }
   },
   "outputs": [
    {
     "data": {
      "text/plain": [
       "['M',\n",
       " 'XS',\n",
       " 'S',\n",
       " 'SIZE-XS',\n",
       " 'M.',\n",
       " 'XXS',\n",
       " 'L',\n",
       " 'XXL',\n",
       " 'S.',\n",
       " 'S',\n",
       " 'CHOOSE A SIZE',\n",
       " 'XS.',\n",
       " '32/L',\n",
       " 'SUIT-S',\n",
       " 'XXXXXL',\n",
       " 'EU 35',\n",
       " '4',\n",
       " 'SIZE S.',\n",
       " '1M BY 3M',\n",
       " '3XL',\n",
       " 'SIZE S',\n",
       " 'XL',\n",
       " 'WOMEN SIZE 36',\n",
       " 'US 6.5 (EU 37)',\n",
       " 'XXXS',\n",
       " 'SIZE XS',\n",
       " '26(WAIST 72CM 28INCH)',\n",
       " 'SIZE XXS',\n",
       " '29',\n",
       " '100 CM',\n",
       " 'ONE SIZE',\n",
       " 'SIZE-4XL',\n",
       " '1',\n",
       " 'S/M(CHILD)',\n",
       " '2PCS',\n",
       " 'XXXL',\n",
       " 'S..',\n",
       " '30 CM',\n",
       " '5XL',\n",
       " '33',\n",
       " 'SIZE M',\n",
       " '100 X 100CM(39.3 X 39.3INCH)',\n",
       " '2XL',\n",
       " '4XL',\n",
       " 'SIZE XXS',\n",
       " 'SIZE S',\n",
       " '35',\n",
       " '34',\n",
       " 'SIZE-XXS',\n",
       " 'S(BUST 88CM)',\n",
       " 'S (WAIST58-62CM)',\n",
       " '20PCS',\n",
       " 'US-S',\n",
       " 'SIZE -XXS',\n",
       " 'X   L',\n",
       " 'XXXXL',\n",
       " '25',\n",
       " 'SIZEL',\n",
       " 'SIZE-S',\n",
       " 'PACK OF 1',\n",
       " 'S DIAMETER 30CM',\n",
       " '6XL',\n",
       " 'AU PLUG LOW QUALITY',\n",
       " '5PAIRS',\n",
       " '25-S',\n",
       " 'SIZE/S',\n",
       " 'SIZE-5XL',\n",
       " 'DAUGHTER 24M',\n",
       " 'BABY FLOAT BOAT',\n",
       " '60',\n",
       " 'US5.5-EU35',\n",
       " '10PCS',\n",
       " 'SIZE-XXS',\n",
       " 'WOMEN SIZE 37',\n",
       " '4-5 YEARS',\n",
       " 'SIZE4XL',\n",
       " 'FIRST  GENERATION',\n",
       " '80 X 200 CM',\n",
       " 'EU39(US8)',\n",
       " 'L.',\n",
       " '36',\n",
       " '04-3XL',\n",
       " 'PANTS-S',\n",
       " 'FLOATING CHAIR FOR KID',\n",
       " '20PCS-10PAIRS',\n",
       " 'SIZE--S',\n",
       " '5',\n",
       " '1 PC - XL',\n",
       " '40 CM',\n",
       " 'SIZE S']"
      ]
     },
     "execution_count": 28,
     "metadata": {},
     "output_type": "execute_result"
    }
   ],
   "source": [
    "q5 = \"\"\"\n",
    "SELECT distinct(product_variation_size_id)\n",
    "from df\n",
    "\"\"\"\n",
    "query5 = ps.sqldf(q5, locals())\n",
    "query5['product_variation_size_id'] = query5['product_variation_size_id'].apply(lambda x: x.upper())\n",
    "query5 = list(query5['product_variation_size_id'])\n",
    "query5"
   ]
  },
  {
   "cell_type": "code",
   "execution_count": 29,
   "id": "8423ba18",
   "metadata": {
    "ExecuteTime": {
     "end_time": "2022-07-04T09:42:47.994171Z",
     "start_time": "2022-07-04T09:42:47.965223Z"
    }
   },
   "outputs": [
    {
     "data": {
      "text/html": [
       "<div>\n",
       "<style scoped>\n",
       "    .dataframe tbody tr th:only-of-type {\n",
       "        vertical-align: middle;\n",
       "    }\n",
       "\n",
       "    .dataframe tbody tr th {\n",
       "        vertical-align: top;\n",
       "    }\n",
       "\n",
       "    .dataframe thead th {\n",
       "        text-align: right;\n",
       "    }\n",
       "</style>\n",
       "<table border=\"1\" class=\"dataframe\">\n",
       "  <thead>\n",
       "    <tr style=\"text-align: right;\">\n",
       "      <th></th>\n",
       "      <th>product_variation_size_id</th>\n",
       "      <th>product_size_per</th>\n",
       "    </tr>\n",
       "  </thead>\n",
       "  <tbody>\n",
       "    <tr>\n",
       "      <th>S</th>\n",
       "      <td>630</td>\n",
       "      <td>0.432395</td>\n",
       "    </tr>\n",
       "    <tr>\n",
       "      <th>XS</th>\n",
       "      <td>332</td>\n",
       "      <td>0.227865</td>\n",
       "    </tr>\n",
       "    <tr>\n",
       "      <th>M</th>\n",
       "      <td>196</td>\n",
       "      <td>0.134523</td>\n",
       "    </tr>\n",
       "    <tr>\n",
       "      <th>XXS</th>\n",
       "      <td>106</td>\n",
       "      <td>0.072752</td>\n",
       "    </tr>\n",
       "    <tr>\n",
       "      <th>OTHER</th>\n",
       "      <td>89</td>\n",
       "      <td>0.061084</td>\n",
       "    </tr>\n",
       "    <tr>\n",
       "      <th>L</th>\n",
       "      <td>50</td>\n",
       "      <td>0.034317</td>\n",
       "    </tr>\n",
       "    <tr>\n",
       "      <th>XXL</th>\n",
       "      <td>36</td>\n",
       "      <td>0.024708</td>\n",
       "    </tr>\n",
       "    <tr>\n",
       "      <th>XL</th>\n",
       "      <td>18</td>\n",
       "      <td>0.012354</td>\n",
       "    </tr>\n",
       "  </tbody>\n",
       "</table>\n",
       "</div>"
      ],
      "text/plain": [
       "       product_variation_size_id  product_size_per\n",
       "S                            630          0.432395\n",
       "XS                           332          0.227865\n",
       "M                            196          0.134523\n",
       "XXS                          106          0.072752\n",
       "OTHER                         89          0.061084\n",
       "L                             50          0.034317\n",
       "XXL                           36          0.024708\n",
       "XL                            18          0.012354"
      ]
     },
     "execution_count": 29,
     "metadata": {},
     "output_type": "execute_result"
    }
   ],
   "source": [
    "xxs_list = []\n",
    "xs_list = []\n",
    "s_list = []\n",
    "m_list = []\n",
    "l_list = []\n",
    "xl_list = []\n",
    "xxl_list = []\n",
    "\n",
    "for i in query5:\n",
    "    if (i == 'XXS') or (i == 'XXXS') or (i == 'SIZE XXS') or (i == 'SIZE-XXS') or (i == 'SIZE -XXS') or (i=='XS.') or (i == 'SizeXS.'):\n",
    "        xxs_list.append(i)\n",
    "    elif (i == 'XS') or (i == 'XS.') or (i == 'SIZE XS') or (i == 'SIZE-XS'):\n",
    "        xs_list.append(i)\n",
    "    elif (i == 'S') or (i == 'S.') or (i == 'SUIT-S') or (i == 'SIZE S.') or (i == 'SIZE S') or (i == 'S..') \\\n",
    "    or (i == 'S(BUST 88CM)') or (i == 'S (WAIST58-62CM)') or (i == 'SIZE-S') or (i == 'S DIAMETER 30CM') or (i == '25-S') \\\n",
    "    or (i == 'SIZE/S') or (i == 'PANTS-S') or (i == 'SIZE--S'):\n",
    "        s_list.append(i)\n",
    "    elif (i == 'M') or (i == 'M.') or (i == 'SIZE M'):\n",
    "        m_list.append(i)\n",
    "    elif (i == 'L') or (i == '32/L') or (i == 'L.') or (i == 'SIZEL'):\n",
    "        l_list.append(i)\n",
    "    elif (i == 'XL') or (i == 'X   L'):\n",
    "        xl_list.append(i)\n",
    "    elif (i == 'XXL') or (i == 'XXXXXL') or (i == '3XL') or (i == 'SIZE-4XL') or (i == 'XXXL') or (i == '5XL') \\\n",
    "    or (i == '2XL') or (i == '4XL') or (i == 'XXXXL') or (i == '6XL') or (i == 'SIZE-5XL') or (i == 'SIZE4XL') \\\n",
    "    or (i == '04-3XL') or (i == '1 PC - XL'):\n",
    "        xxl_list.append(i)\n",
    "        \n",
    "def size(tipe):\n",
    "    if tipe in xxs_list:\n",
    "        return 'XXS'\n",
    "    elif tipe in xs_list:\n",
    "        return 'XS'\n",
    "    elif tipe in s_list:\n",
    "        return 'S'\n",
    "    elif tipe in m_list:\n",
    "        return 'M'\n",
    "    elif tipe in l_list:\n",
    "        return 'L'\n",
    "    elif tipe in xl_list:\n",
    "        return 'XL'\n",
    "    elif tipe in xxl_list:\n",
    "        return 'XXL'\n",
    "    else:\n",
    "        return 'OTHER'\n",
    "    \n",
    "df['product_variation_size_id'] = df['product_variation_size_id'].apply(size)  \n",
    "\n",
    "Product_size = pd.DataFrame(df['product_variation_size_id'].value_counts())\n",
    "Product_size['product_size_per'] = Product_size['product_variation_size_id']/Product_size['product_variation_size_id'].sum()\n",
    "Product_size"
   ]
  },
  {
   "cell_type": "code",
   "execution_count": 30,
   "id": "608b50bf",
   "metadata": {
    "ExecuteTime": {
     "end_time": "2022-07-04T09:42:48.134285Z",
     "start_time": "2022-07-04T09:42:47.996142Z"
    }
   },
   "outputs": [
    {
     "data": {
      "image/png": "[encoded data removed]",
      "text/plain": [
       "<Figure size 720x576 with 1 Axes>"
      ]
     },
     "metadata": {
      "needs_background": "light"
     },
     "output_type": "display_data"
    }
   ],
   "source": [
    "fig = plt.figure(figsize = (10, 8))\n",
    "plt.bar(Product_size.index, Product_size.product_variation_size_id)\n",
    "plt.xlabel(\"Sizes\")\n",
    "plt.ylabel(\"Number of products sold\")\n",
    "plt.title(\"Number of units old by sizes\")\n",
    "plt.show()"
   ]
  },
  {
   "cell_type": "markdown",
   "id": "c7430d38",
   "metadata": {
    "ExecuteTime": {
     "end_time": "2022-07-04T08:13:42.889866Z",
     "start_time": "2022-07-04T08:13:42.870893Z"
    }
   },
   "source": [
    "Insight: S is the most sold size followed by XS and M during the summer sale."
   ]
  },
  {
   "cell_type": "markdown",
   "id": "b821f895",
   "metadata": {},
   "source": [
    "#### Color"
   ]
  },
  {
   "cell_type": "code",
   "execution_count": 31,
   "id": "73dd75e7",
   "metadata": {
    "ExecuteTime": {
     "end_time": "2022-07-04T09:42:48.196915Z",
     "start_time": "2022-07-04T09:42:48.136080Z"
    }
   },
   "outputs": [
    {
     "data": {
      "text/plain": [
       "['white',\n",
       " 'green',\n",
       " 'leopardprint',\n",
       " 'black',\n",
       " 'yellow',\n",
       " 'navyblue',\n",
       " 'blue',\n",
       " 'beige',\n",
       " 'grey',\n",
       " 'lightblue',\n",
       " 'orange',\n",
       " 'red',\n",
       " 'Black',\n",
       " 'armygreen',\n",
       " 'pink',\n",
       " 'khaki',\n",
       " 'red & blue',\n",
       " 'blue & pink',\n",
       " 'RED',\n",
       " 'white & green',\n",
       " 'winered',\n",
       " 'black & green',\n",
       " 'purple',\n",
       " 'whitefloral',\n",
       " 'floral',\n",
       " 'fluorescentgreen',\n",
       " 'orange & camouflage',\n",
       " 'lightyellow',\n",
       " 'coolblack',\n",
       " 'multicolor',\n",
       " 'camouflage',\n",
       " 'lightpink',\n",
       " 'pink & black',\n",
       " 'silver',\n",
       " 'Army green',\n",
       " 'lightgreen',\n",
       " 'mintgreen',\n",
       " 'pink & grey',\n",
       " 'gray',\n",
       " 'coffee',\n",
       " 'rose',\n",
       " 'light green',\n",
       " 'leopard',\n",
       " 'black & white',\n",
       " 'orange-red',\n",
       " 'dustypink',\n",
       " 'White',\n",
       " 'star',\n",
       " 'white & black',\n",
       " 'apricot',\n",
       " 'burgundy',\n",
       " 'claret',\n",
       " 'pink & white',\n",
       " 'rosered',\n",
       " 'navy blue',\n",
       " 'wine red',\n",
       " 'lightred',\n",
       " 'Pink',\n",
       " 'skyblue',\n",
       " 'coralred',\n",
       " 'brown',\n",
       " 'lakeblue',\n",
       " 'darkblue',\n",
       " 'camel',\n",
       " 'pink & blue',\n",
       " 'nude',\n",
       " 'Blue',\n",
       " 'lightpurple',\n",
       " 'army',\n",
       " 'black & stripe',\n",
       " 'Rose red',\n",
       " 'greysnakeskinprint',\n",
       " 'denimblue',\n",
       " 'applegreen',\n",
       " 'offwhite',\n",
       " 'lightgray',\n",
       " 'gray & white',\n",
       " 'brown & yellow',\n",
       " 'winered & yellow',\n",
       " 'army green',\n",
       " 'whitestripe',\n",
       " 'rainbow',\n",
       " 'lightgrey',\n",
       " 'watermelonred',\n",
       " 'prussianblue',\n",
       " 'navyblue & white',\n",
       " 'white & red',\n",
       " 'wine',\n",
       " 'ivory',\n",
       " 'black & yellow',\n",
       " 'jasper',\n",
       " 'lightkhaki',\n",
       " 'offblack',\n",
       " 'violet',\n",
       " 'navy',\n",
       " 'black & blue',\n",
       " 'rosegold',\n",
       " 'gold']"
      ]
     },
     "execution_count": 31,
     "metadata": {},
     "output_type": "execute_result"
    }
   ],
   "source": [
    "q6 = \"\"\"\n",
    "SELECT distinct product_color\n",
    "from df\n",
    "\"\"\"\n",
    "query6 = ps.sqldf(q6, locals())\n",
    "query6 = list(query6['product_color'])\n",
    "query6"
   ]
  },
  {
   "cell_type": "code",
   "execution_count": 32,
   "id": "e2721726",
   "metadata": {
    "ExecuteTime": {
     "end_time": "2022-07-04T09:42:48.227832Z",
     "start_time": "2022-07-04T09:42:48.199909Z"
    }
   },
   "outputs": [
    {
     "data": {
      "text/html": [
       "<div>\n",
       "<style scoped>\n",
       "    .dataframe tbody tr th:only-of-type {\n",
       "        vertical-align: middle;\n",
       "    }\n",
       "\n",
       "    .dataframe tbody tr th {\n",
       "        vertical-align: top;\n",
       "    }\n",
       "\n",
       "    .dataframe thead th {\n",
       "        text-align: right;\n",
       "    }\n",
       "</style>\n",
       "<table border=\"1\" class=\"dataframe\">\n",
       "  <thead>\n",
       "    <tr style=\"text-align: right;\">\n",
       "      <th></th>\n",
       "      <th>product_color</th>\n",
       "      <th>product_color_per</th>\n",
       "    </tr>\n",
       "  </thead>\n",
       "  <tbody>\n",
       "    <tr>\n",
       "      <th>Other</th>\n",
       "      <td>593</td>\n",
       "      <td>0.407001</td>\n",
       "    </tr>\n",
       "    <tr>\n",
       "      <th>Black</th>\n",
       "      <td>288</td>\n",
       "      <td>0.197666</td>\n",
       "    </tr>\n",
       "    <tr>\n",
       "      <th>White</th>\n",
       "      <td>240</td>\n",
       "      <td>0.164722</td>\n",
       "    </tr>\n",
       "    <tr>\n",
       "      <th>Green</th>\n",
       "      <td>124</td>\n",
       "      <td>0.085106</td>\n",
       "    </tr>\n",
       "    <tr>\n",
       "      <th>Blue</th>\n",
       "      <td>113</td>\n",
       "      <td>0.077557</td>\n",
       "    </tr>\n",
       "    <tr>\n",
       "      <th>Red</th>\n",
       "      <td>99</td>\n",
       "      <td>0.067948</td>\n",
       "    </tr>\n",
       "  </tbody>\n",
       "</table>\n",
       "</div>"
      ],
      "text/plain": [
       "       product_color  product_color_per\n",
       "Other            593           0.407001\n",
       "Black            288           0.197666\n",
       "White            240           0.164722\n",
       "Green            124           0.085106\n",
       "Blue             113           0.077557\n",
       "Red               99           0.067948"
      ]
     },
     "execution_count": 32,
     "metadata": {},
     "output_type": "execute_result"
    }
   ],
   "source": [
    "red_list = []\n",
    "green_list = []\n",
    "white_list = []\n",
    "black_list = []\n",
    "blue_list = []\n",
    "yellow_list = []\n",
    "grey_list = []\n",
    "purple_list = []\n",
    "\n",
    "for i in query6:\n",
    "    if (i == 'red') or (i == 'RED') or (i == 'wine red') or (i == 'rose red') or (i == \"lightred\") or (i == 'coralred') \\\n",
    "    or (i == 'watermelonred') and (i != 'white & red') and (i != 'red & blue'):\n",
    "        red_list.append(i)\n",
    "    elif (i == 'green') or (i == 'applegreen') or (i == 'light green') or (i == 'mintgreen') or (i == 'lightgreen') \\\n",
    "    or (i == 'armygreen') and (i != 'white & green') and (i != 'black & green'):\n",
    "        green_list.append(i)\n",
    "    elif (i == 'white') or (i == 'White') or (i == 'whitefloral') or (i == 'offwhite') or (i == 'whitestripe'):\n",
    "        white_list.append(i)\n",
    "    elif (i == 'black')or (i == 'Black') or (i == 'Coolblack') or (i == 'Offblack'):\n",
    "        black_list.append(i)\n",
    "    elif (i == 'blue') or (i == 'Blue') or (i == ' navyblue') or (i == 'navy blue') or (i == 'lightblue') or (i == 'lakeblue') and \\\n",
    "          (i != 'navyblue & white') and (i != 'black & blue') and (i != 'blue & pink') and (i != 'pink & blue'):\n",
    "        blue_list.append(i)\n",
    "    elif (i == 'Yellow') or (i == 'Lightyellow'):\n",
    "        yellow_list.append(i)\n",
    "    elif (i == 'Grey') or (i == 'Greysnakeskinprint') or (i == 'Lightgrey') or (i == 'Gray') or (i == 'Lightgray'):\n",
    "        grey_list.append(i)\n",
    "    elif 'Purple' in i:\n",
    "        purple_list.append(i)\n",
    "        \n",
    "def color(tipe):\n",
    "    if tipe in red_list:\n",
    "        return 'Red'\n",
    "    elif tipe in green_list:\n",
    "        return 'Green'\n",
    "    elif tipe in white_list:\n",
    "        return 'White'\n",
    "    elif tipe in black_list:\n",
    "        return 'Black'\n",
    "    elif tipe in blue_list:\n",
    "        return 'Blue'\n",
    "    elif tipe in yellow_list:\n",
    "        return 'Yellow'\n",
    "    elif tipe in grey_list:\n",
    "        return 'Gray'\n",
    "    elif tipe in purple_list:\n",
    "        return 'Purple'\n",
    "    else:\n",
    "        return 'Other'\n",
    "        \n",
    "df['product_color'] = df['product_color'].apply(color)\n",
    "Product_color = pd.DataFrame(df['product_color'].value_counts())\n",
    "Product_color['product_color_per'] = Product_color['product_color']/Product_color['product_color'].sum()\n",
    "Product_color"
   ]
  },
  {
   "cell_type": "code",
   "execution_count": 33,
   "id": "65ed31eb",
   "metadata": {
    "ExecuteTime": {
     "end_time": "2022-07-04T09:42:48.351504Z",
     "start_time": "2022-07-04T09:42:48.229828Z"
    }
   },
   "outputs": [
    {
     "data": {
      "image/png": "[encoded data removed]",
      "text/plain": [
       "<Figure size 720x576 with 1 Axes>"
      ]
     },
     "metadata": {
      "needs_background": "light"
     },
     "output_type": "display_data"
    }
   ],
   "source": [
    "fig = plt.figure(figsize = (10, 8))\n",
    "plt.bar(Product_color.index, Product_color.product_color)\n",
    "plt.xlabel(\"Colors\")\n",
    "plt.ylabel(\"Number of products sold\")\n",
    "plt.title(\"Number of units old by colors\")\n",
    "plt.show()"
   ]
  },
  {
   "cell_type": "markdown",
   "id": "de960210",
   "metadata": {},
   "source": [
    "Insight: From the sorted data, Black is the most demanded color (19.7%) followed by White (16.4%). The category of 'Other' colors include colors like Pink, Maroon, Gold, Brown etc."
   ]
  },
  {
   "cell_type": "markdown",
   "id": "a0d64fa9",
   "metadata": {},
   "source": [
    "#### Gender"
   ]
  },
  {
   "cell_type": "code",
   "execution_count": 41,
   "id": "615dec48",
   "metadata": {
    "ExecuteTime": {
     "end_time": "2022-07-04T09:44:25.968834Z",
     "start_time": "2022-07-04T09:44:24.235208Z"
    }
   },
   "outputs": [
    {
     "data": {
      "text/plain": [
       "Woman    1369\n",
       "Man        88\n",
       "Name: pro_gender, dtype: int64"
      ]
     },
     "execution_count": 41,
     "metadata": {},
     "output_type": "execute_result"
    }
   ],
   "source": [
    "df['title_orig'] = df['title_orig'].apply(lambda x: x.title())\n",
    "\n",
    "man_list = []\n",
    "\n",
    "def prod_gender(tipe):\n",
    "    for i in df['title_orig']:\n",
    "        if ('Man' in i) or ('Men' in i) and (i != 'Woman') :\n",
    "            man_list.append(i)\n",
    "    if tipe in man_list:\n",
    "        return 'Man'\n",
    "    else:\n",
    "        return 'Woman'\n",
    "\n",
    "\n",
    "df['pro_gender'] = df['title_orig'].apply(prod_gender)\n",
    "df['pro_gender'].value_counts()"
   ]
  },
  {
   "cell_type": "markdown",
   "id": "e58886eb",
   "metadata": {},
   "source": [
    "Insight: Roughly 94% of all the products constitute women clothes."
   ]
  },
  {
   "cell_type": "markdown",
   "id": "bbf8db34",
   "metadata": {},
   "source": [
    "###  Merchant Rating"
   ]
  },
  {
   "cell_type": "code",
   "execution_count": 35,
   "id": "4a24ec8d",
   "metadata": {
    "ExecuteTime": {
     "end_time": "2022-07-04T09:42:50.040060Z",
     "start_time": "2022-07-04T09:42:49.965150Z"
    }
   },
   "outputs": [
    {
     "data": {
      "text/html": [
       "<div>\n",
       "<style scoped>\n",
       "    .dataframe tbody tr th:only-of-type {\n",
       "        vertical-align: middle;\n",
       "    }\n",
       "\n",
       "    .dataframe tbody tr th {\n",
       "        vertical-align: top;\n",
       "    }\n",
       "\n",
       "    .dataframe thead th {\n",
       "        text-align: right;\n",
       "    }\n",
       "</style>\n",
       "<table border=\"1\" class=\"dataframe\">\n",
       "  <thead>\n",
       "    <tr style=\"text-align: right;\">\n",
       "      <th></th>\n",
       "      <th>merchant_name</th>\n",
       "      <th>merchant_rating_count</th>\n",
       "      <th>merchant_rating</th>\n",
       "      <th>merchant_id</th>\n",
       "    </tr>\n",
       "  </thead>\n",
       "  <tbody>\n",
       "    <tr>\n",
       "      <th>0</th>\n",
       "      <td>simplevalueltd</td>\n",
       "      <td>2174765</td>\n",
       "      <td>4.356188</td>\n",
       "      <td>5bd0a13aa8f4bb2739445be4</td>\n",
       "    </tr>\n",
       "    <tr>\n",
       "      <th>1</th>\n",
       "      <td>gl</td>\n",
       "      <td>402743</td>\n",
       "      <td>4.156715</td>\n",
       "      <td>53facca81c105e3d5866e212</td>\n",
       "    </tr>\n",
       "    <tr>\n",
       "      <th>2</th>\n",
       "      <td>gl</td>\n",
       "      <td>402743</td>\n",
       "      <td>4.156715</td>\n",
       "      <td>53facca81c105e3d5866e212</td>\n",
       "    </tr>\n",
       "    <tr>\n",
       "      <th>3</th>\n",
       "      <td>bigcompany</td>\n",
       "      <td>366898</td>\n",
       "      <td>4.036081</td>\n",
       "      <td>53082ea15aefb07dfe1f2a4f</td>\n",
       "    </tr>\n",
       "    <tr>\n",
       "      <th>4</th>\n",
       "      <td>shanghailalanginternationaltradecoltd</td>\n",
       "      <td>330405</td>\n",
       "      <td>4.067348</td>\n",
       "      <td>53f2beb39020ee03566d6e18</td>\n",
       "    </tr>\n",
       "  </tbody>\n",
       "</table>\n",
       "</div>"
      ],
      "text/plain": [
       "                           merchant_name  merchant_rating_count  \\\n",
       "0                         simplevalueltd                2174765   \n",
       "1                                     gl                 402743   \n",
       "2                                     gl                 402743   \n",
       "3                             bigcompany                 366898   \n",
       "4  shanghailalanginternationaltradecoltd                 330405   \n",
       "\n",
       "   merchant_rating               merchant_id  \n",
       "0         4.356188  5bd0a13aa8f4bb2739445be4  \n",
       "1         4.156715  53facca81c105e3d5866e212  \n",
       "2         4.156715  53facca81c105e3d5866e212  \n",
       "3         4.036081  53082ea15aefb07dfe1f2a4f  \n",
       "4         4.067348  53f2beb39020ee03566d6e18  "
      ]
     },
     "execution_count": 35,
     "metadata": {},
     "output_type": "execute_result"
    }
   ],
   "source": [
    "q7 = \"\"\"\n",
    "SELECT merchant_name, merchant_rating_count, merchant_rating, merchant_id   \n",
    "from df\n",
    "order by merchant_rating_count desc \n",
    "limit 5\n",
    "\"\"\"\n",
    "\n",
    "query7 = ps.sqldf(q7, locals())\n",
    "query7"
   ]
  },
  {
   "cell_type": "code",
   "execution_count": 36,
   "id": "49657df3",
   "metadata": {
    "ExecuteTime": {
     "end_time": "2022-07-04T09:42:50.101560Z",
     "start_time": "2022-07-04T09:42:50.042054Z"
    }
   },
   "outputs": [
    {
     "data": {
      "text/html": [
       "<div>\n",
       "<style scoped>\n",
       "    .dataframe tbody tr th:only-of-type {\n",
       "        vertical-align: middle;\n",
       "    }\n",
       "\n",
       "    .dataframe tbody tr th {\n",
       "        vertical-align: top;\n",
       "    }\n",
       "\n",
       "    .dataframe thead th {\n",
       "        text-align: right;\n",
       "    }\n",
       "</style>\n",
       "<table border=\"1\" class=\"dataframe\">\n",
       "  <thead>\n",
       "    <tr style=\"text-align: right;\">\n",
       "      <th></th>\n",
       "      <th>title</th>\n",
       "      <th>units_sold</th>\n",
       "    </tr>\n",
       "  </thead>\n",
       "  <tbody>\n",
       "    <tr>\n",
       "      <th>0</th>\n",
       "      <td>Women Sister Shirt Cute Cat Imprimé Couple d'été Débardeur Dessus Veste S-3XL</td>\n",
       "      <td>10000</td>\n",
       "    </tr>\n",
       "  </tbody>\n",
       "</table>\n",
       "</div>"
      ],
      "text/plain": [
       "                                                                           title  \\\n",
       "0  Women Sister Shirt Cute Cat Imprimé Couple d'été Débardeur Dessus Veste S-3XL   \n",
       "\n",
       "   units_sold  \n",
       "0       10000  "
      ]
     },
     "execution_count": 36,
     "metadata": {},
     "output_type": "execute_result"
    }
   ],
   "source": [
    "q8 = \"\"\"\n",
    "SELECT title, units_sold\n",
    "from df\n",
    "where merchant_name = \"simplevalueltd\"\n",
    "order by units_sold\n",
    "\"\"\"\n",
    "\n",
    "query8 = ps.sqldf(q8, locals())\n",
    "query8"
   ]
  },
  {
   "cell_type": "markdown",
   "id": "a493bc7f",
   "metadata": {},
   "source": [
    "Insight: Merchant 'simplevalueltd' is the highest rated merchant with a rating of 4.35 and more than 2 million counts. Their top selling product is a Cat imprint shirt for women."
   ]
  },
  {
   "cell_type": "code",
   "execution_count": 37,
   "id": "cfa0a0c1",
   "metadata": {
    "ExecuteTime": {
     "end_time": "2022-07-04T09:42:50.471451Z",
     "start_time": "2022-07-04T09:42:50.103526Z"
    }
   },
   "outputs": [
    {
     "data": {
      "text/plain": [
       "Text(0.5, 0, 'Units Sold')"
      ]
     },
     "execution_count": 37,
     "metadata": {},
     "output_type": "execute_result"
    },
    {
     "data": {
      "image/png": "[encoded data removed]",
      "text/plain": [
       "<Figure size 1080x720 with 1 Axes>"
      ]
     },
     "metadata": {
      "needs_background": "light"
     },
     "output_type": "display_data"
    }
   ],
   "source": [
    "fig, ax = plt.subplots(figsize = (15, 10))\n",
    "sns.barplot(x = df.units_sold_group, y = df.merchant_rating_count, ax = ax)\n",
    "\n",
    "units_sold_order = ['0.1k-1k', '1k-5k', '5k-10k', '10k-20k', '20k-50k', '50k-100k', '100k+']\n",
    "ax.set_xticklabels(units_sold_order)\n",
    "ax.set_ylabel('Number of Merchant Ratings', fontweight = 'bold')\n",
    "ax.set_xlabel('Units Sold', fontweight = 'bold')"
   ]
  },
  {
   "cell_type": "markdown",
   "id": "8db62400",
   "metadata": {
    "ExecuteTime": {
     "end_time": "2022-07-04T09:32:27.660669Z",
     "start_time": "2022-07-04T09:32:27.643687Z"
    }
   },
   "source": [
    "Higher the number of Ratings of a Merchant, higher is the units sold for that merchant."
   ]
  },
  {
   "cell_type": "code",
   "execution_count": 38,
   "id": "76187aeb",
   "metadata": {
    "ExecuteTime": {
     "end_time": "2022-07-04T09:42:50.794348Z",
     "start_time": "2022-07-04T09:42:50.473420Z"
    }
   },
   "outputs": [
    {
     "data": {
      "text/plain": [
       "Text(0.5, 0, 'Units Sold')"
      ]
     },
     "execution_count": 38,
     "metadata": {},
     "output_type": "execute_result"
    },
    {
     "data": {
      "image/png": "[encoded data removed]",
      "text/plain": [
       "<Figure size 1080x720 with 1 Axes>"
      ]
     },
     "metadata": {
      "needs_background": "light"
     },
     "output_type": "display_data"
    }
   ],
   "source": [
    "fig, ax = plt.subplots(figsize = (15, 10))\n",
    "sns.barplot(x = df.units_sold_group, y = df.merchant_rating, ax = ax)\n",
    "\n",
    "units_sold_order = ['0.1k-1k', '1k-5k', '5k-10k', '10k-20k', '20k-50k', '50k-100k', '100k+']\n",
    "ax.set_xticklabels(units_sold_order)\n",
    "ax.set_ylabel('Number of Merchant Ratings', fontweight = 'bold')\n",
    "ax.set_xlabel('Units Sold', fontweight = 'bold')"
   ]
  },
  {
   "cell_type": "markdown",
   "id": "859ae94c",
   "metadata": {},
   "source": [
    "Products sold are the ones with merchant_rating of 4 or more. This is a indication of buyer awareness implying that customers tend to buy products from higher rated merchants only."
   ]
  },
  {
   "cell_type": "code",
   "execution_count": 43,
   "id": "dac344e2",
   "metadata": {
    "ExecuteTime": {
     "end_time": "2022-07-04T10:48:15.206546Z",
     "start_time": "2022-07-04T10:48:15.107757Z"
    }
   },
   "outputs": [
    {
     "data": {
      "text/html": [
       "<div>\n",
       "<style scoped>\n",
       "    .dataframe tbody tr th:only-of-type {\n",
       "        vertical-align: middle;\n",
       "    }\n",
       "\n",
       "    .dataframe tbody tr th {\n",
       "        vertical-align: top;\n",
       "    }\n",
       "\n",
       "    .dataframe thead th {\n",
       "        text-align: right;\n",
       "    }\n",
       "</style>\n",
       "<table border=\"1\" class=\"dataframe\">\n",
       "  <thead>\n",
       "    <tr style=\"text-align: right;\">\n",
       "      <th></th>\n",
       "      <th>Product_Name</th>\n",
       "      <th>Units_Sold</th>\n",
       "    </tr>\n",
       "  </thead>\n",
       "  <tbody>\n",
       "    <tr>\n",
       "      <th>0</th>\n",
       "      <td>2018 New Fashion Women's Tops Sexy Strappy Sleeveless Dentelle sans manches Crop Cops</td>\n",
       "      <td>100000</td>\n",
       "    </tr>\n",
       "    <tr>\n",
       "      <th>1</th>\n",
       "      <td>Femmes Camisole extensible Spaghetti Strap Long Débardeur Slip Mini Dress 4Color SIZE XXL est disponible maintenant</td>\n",
       "      <td>100000</td>\n",
       "    </tr>\n",
       "    <tr>\n",
       "      <th>2</th>\n",
       "      <td>Nouveau Aeeival Femmes Vêtements À Manches Longues Automne Hiver Robe De Bal Robe Slim Fit Patchwork Casual Dentelle Robe Robe De Renda</td>\n",
       "      <td>100000</td>\n",
       "    </tr>\n",
       "    <tr>\n",
       "      <th>3</th>\n",
       "      <td>T-shirt à manches courtes en mousseline de soie rouge et blanc d'été pour femme</td>\n",
       "      <td>100000</td>\n",
       "    </tr>\n",
       "    <tr>\n",
       "      <th>4</th>\n",
       "      <td>Nouvelle arrivée femmes été sexy robe de soirée élégante sans manches col roulé mini robe</td>\n",
       "      <td>100000</td>\n",
       "    </tr>\n",
       "  </tbody>\n",
       "</table>\n",
       "</div>"
      ],
      "text/plain": [
       "                                                                                                                              Product_Name  \\\n",
       "0                                                    2018 New Fashion Women's Tops Sexy Strappy Sleeveless Dentelle sans manches Crop Cops   \n",
       "1                      Femmes Camisole extensible Spaghetti Strap Long Débardeur Slip Mini Dress 4Color SIZE XXL est disponible maintenant   \n",
       "2  Nouveau Aeeival Femmes Vêtements À Manches Longues Automne Hiver Robe De Bal Robe Slim Fit Patchwork Casual Dentelle Robe Robe De Renda   \n",
       "3                                                          T-shirt à manches courtes en mousseline de soie rouge et blanc d'été pour femme   \n",
       "4                                                Nouvelle arrivée femmes été sexy robe de soirée élégante sans manches col roulé mini robe   \n",
       "\n",
       "   Units_Sold  \n",
       "0      100000  \n",
       "1      100000  \n",
       "2      100000  \n",
       "3      100000  \n",
       "4      100000  "
      ]
     },
     "execution_count": 43,
     "metadata": {},
     "output_type": "execute_result"
    }
   ],
   "source": [
    "q9 = \"\"\"\n",
    "SELECT title as Product_Name, units_sold as Units_Sold\n",
    "from df\n",
    "order by units_sold desc\n",
    "limit 5 \n",
    "\"\"\"\n",
    "\n",
    "query9 = ps.sqldf(q9, locals())\n",
    "pd.set_option('display.max_colwidth', None)\n",
    "query9"
   ]
  },
  {
   "cell_type": "code",
   "execution_count": null,
   "id": "7f1bc43f",
   "metadata": {},
   "outputs": [],
   "source": []
  }
 ],
 "metadata": {
  "kernelspec": {
   "display_name": "Python 3 (ipykernel)",
   "language": "python",
   "name": "python3"
  },
  "language_info": {
   "codemirror_mode": {
    "name": "ipython",
    "version": 3
   },
   "file_extension": ".py",
   "mimetype": "text/x-python",
   "name": "python",
   "nbconvert_exporter": "python",
   "pygments_lexer": "ipython3",
   "version": "3.9.7"
  },
  "toc": {
   "base_numbering": 1,
   "nav_menu": {},
   "number_sections": true,
   "sideBar": true,
   "skip_h1_title": false,
   "title_cell": "Table of Contents",
   "title_sidebar": "Contents",
   "toc_cell": false,
   "toc_position": {
    "height": "calc(100% - 180px)",
    "left": "10px",
    "top": "150px",
    "width": "349.233px"
   },
   "toc_section_display": true,
   "toc_window_display": true
  }
 },
 "nbformat": 4,
 "nbformat_minor": 5
}
